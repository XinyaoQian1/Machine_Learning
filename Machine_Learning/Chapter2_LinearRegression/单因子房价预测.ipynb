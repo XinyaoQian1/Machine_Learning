{
 "cells": [
  {
   "cell_type": "markdown",
   "metadata": {
    "collapsed": true,
    "pycharm": {
     "name": "#%% md\n"
    }
   },
   "source": [
    "#基于面积的单因子房价预测\n",
    "\n"
   ]
  },
  {
   "cell_type": "raw",
   "source": [
    "**任务:**\n",
    "基于课程中的房价预测案例与task1_data.csv数据，建立单因子线性回归模型，预测面积100平方米的房子售价100万是否值得投资：\n",
    "\n",
    "任务：\n",
    "\n",
    "1、完成数据加载与可视化\n",
    "2、进行数据预处理: X、y赋值、格式转化、维度确认\n",
    "3、建立单因子线性回归模型，训练模型\n",
    "4、评估模型表现，可视化线性回归预测结果\n",
    "拓展任务：手动计算模型输出a、b后对应的损失函数，尝试其他ab组合，对比损失函数大小\n",
    "\n",
    "\n"
   ],
   "metadata": {
    "collapsed": false,
    "pycharm": {
     "name": "#%% raw\n"
    }
   }
  },
  {
   "cell_type": "code",
   "execution_count": 1,
   "outputs": [
    {
     "data": {
      "text/plain": "    面积       房价\n0   68   414592\n1   95   956877\n2  102  1123582\n3  130   893667\n4   60   600000",
      "text/html": "<div>\n<style scoped>\n    .dataframe tbody tr th:only-of-type {\n        vertical-align: middle;\n    }\n\n    .dataframe tbody tr th {\n        vertical-align: top;\n    }\n\n    .dataframe thead th {\n        text-align: right;\n    }\n</style>\n<table border=\"1\" class=\"dataframe\">\n  <thead>\n    <tr style=\"text-align: right;\">\n      <th></th>\n      <th>面积</th>\n      <th>房价</th>\n    </tr>\n  </thead>\n  <tbody>\n    <tr>\n      <th>0</th>\n      <td>68</td>\n      <td>414592</td>\n    </tr>\n    <tr>\n      <th>1</th>\n      <td>95</td>\n      <td>956877</td>\n    </tr>\n    <tr>\n      <th>2</th>\n      <td>102</td>\n      <td>1123582</td>\n    </tr>\n    <tr>\n      <th>3</th>\n      <td>130</td>\n      <td>893667</td>\n    </tr>\n    <tr>\n      <th>4</th>\n      <td>60</td>\n      <td>600000</td>\n    </tr>\n  </tbody>\n</table>\n</div>"
     },
     "execution_count": 1,
     "metadata": {},
     "output_type": "execute_result"
    }
   ],
   "source": [
    "#1. 完成数据加载\n",
    "import numpy as np\n",
    "import pandas as pd\n",
    "from matplotlib import pyplot as plt\n",
    "data = pd.read_csv('task1_data.csv')\n",
    "data.head()"
   ],
   "metadata": {
    "collapsed": false,
    "pycharm": {
     "name": "#%%\n"
    }
   }
  },
  {
   "cell_type": "code",
   "execution_count": 2,
   "outputs": [],
   "source": [
    "#2.数据提取\n",
    "\n",
    "x = data.loc[:,'面积']\n",
    "y = data.loc[:,'房价']\n"
   ],
   "metadata": {
    "collapsed": false,
    "pycharm": {
     "name": "#%%\n"
    }
   }
  },
  {
   "cell_type": "code",
   "execution_count": 3,
   "outputs": [
    {
     "data": {
      "text/plain": "<Figure size 432x288 with 1 Axes>",
      "image/png": "[encoded data removed]"
     },
     "metadata": {
      "needs_background": "light"
     },
     "output_type": "display_data"
    }
   ],
   "source": [
    "#3.数据可视化\n",
    "from matplotlib import pyplot as plt\n",
    "fig1 = plt.figure()\n",
    "plt.scatter(x,y)\n",
    "plt.xlabel('size(x)')\n",
    "plt.ylabel('price(y)')\n",
    "plt.show()"
   ],
   "metadata": {
    "collapsed": false,
    "pycharm": {
     "name": "#%%\n"
    }
   }
  },
  {
   "cell_type": "code",
   "execution_count": 4,
   "outputs": [
    {
     "name": "stdout",
     "output_type": "stream",
     "text": [
      "<class 'pandas.core.series.Series'>\n",
      "<class 'numpy.ndarray'>\n",
      "(11,) (11,)\n"
     ]
    }
   ],
   "source": [
    "#4. 数据格式处理\n",
    "print(type(x))\n",
    "x = np.array(x)\n",
    "print(type(x))\n",
    "y = np.array(y)\n",
    "print(x.shape,y.shape)"
   ],
   "metadata": {
    "collapsed": false,
    "pycharm": {
     "name": "#%%\n"
    }
   }
  },
  {
   "cell_type": "markdown",
   "source": [
    "这里的-1被理解为unspecified value，意思是未指定为给定的。如果我只需要特定的行数，列数多少我无所谓，我只需要指定行数，那么列数直接用-1代替就行了，计算机帮我们算有多少列，反之亦然。"
   ],
   "metadata": {
    "collapsed": false,
    "pycharm": {
     "name": "#%% md\n"
    }
   }
  },
  {
   "cell_type": "code",
   "execution_count": 5,
   "outputs": [],
   "source": [
    "#我们不想要（n,)的格式，我们想要（n,1)的格式\n",
    "x = x.reshape(-1,1)\n",
    "y = y.reshape(-1,1)\n",
    "#也就是说我们不关心列数，只想让行数为1"
   ],
   "metadata": {
    "collapsed": false,
    "pycharm": {
     "name": "#%%\n"
    }
   }
  },
  {
   "cell_type": "code",
   "execution_count": 6,
   "outputs": [
    {
     "data": {
      "text/plain": "LinearRegression()"
     },
     "execution_count": 6,
     "metadata": {},
     "output_type": "execute_result"
    }
   ],
   "source": [
    "#5. 创建模型实例\n",
    "from sklearn.linear_model import LinearRegression as L\n",
    "model = L()\n",
    "#6.训练模型\n",
    "model.fit(x,y)"
   ],
   "metadata": {
    "collapsed": false,
    "pycharm": {
     "name": "#%%\n"
    }
   }
  },
  {
   "cell_type": "code",
   "execution_count": 7,
   "outputs": [
    {
     "name": "stdout",
     "output_type": "stream",
     "text": [
      "f(x) = 8905.691772 x + 53690.915479\n"
     ]
    }
   ],
   "source": [
    "#获取线性回归的模型系数\n",
    "a = model.coef_ #斜率\n",
    "b = model.intercept_\n",
    "print('f(x) = %f x + %f'%(a,b))"
   ],
   "metadata": {
    "collapsed": false,
    "pycharm": {
     "name": "#%%\n"
    }
   }
  },
  {
   "cell_type": "code",
   "execution_count": 8,
   "outputs": [
    {
     "name": "stdout",
     "output_type": "stream",
     "text": [
      "[[ 659277.95598426]\n",
      " [ 899731.63383191]\n",
      " [ 962071.47623686]\n",
      " [1211430.84585665]\n",
      " [ 588032.42180718]\n",
      " [ 454447.04522515]\n",
      " [ 320861.66864311]\n",
      " [ 766146.25724988]\n",
      " [1122373.9281353 ]\n",
      " [1060034.08573035]\n",
      " [1389544.68129936]]\n"
     ]
    }
   ],
   "source": [
    "#获取预测结果\n",
    "y_predict = a*x+b\n",
    "print(y_predict)"
   ],
   "metadata": {
    "collapsed": false,
    "pycharm": {
     "name": "#%%\n"
    }
   }
  },
  {
   "cell_type": "code",
   "execution_count": 9,
   "outputs": [
    {
     "data": {
      "text/plain": "<Figure size 432x288 with 1 Axes>",
      "image/png": "[encoded data removed]"
     },
     "metadata": {
      "needs_background": "light"
     },
     "output_type": "display_data"
    }
   ],
   "source": [
    "plt.plot(x,y,'.',label = 'y')\n",
    "plt.plot(x,y_predict,label = 'y_predict')\n",
    "plt.legend()\n",
    "plt.show()"
   ],
   "metadata": {
    "collapsed": false,
    "pycharm": {
     "name": "#%%\n"
    }
   }
  },
  {
   "cell_type": "code",
   "execution_count": 10,
   "outputs": [
    {
     "data": {
      "text/plain": "array([[944260.09269259]])"
     },
     "execution_count": 10,
     "metadata": {},
     "output_type": "execute_result"
    }
   ],
   "source": [
    "model.predict(np.array([[100]]))"
   ],
   "metadata": {
    "collapsed": false,
    "pycharm": {
     "name": "#%%\n"
    }
   }
  },
  {
   "cell_type": "code",
   "execution_count": 13,
   "outputs": [
    {
     "name": "stdout",
     "output_type": "stream",
     "text": [
      "MSE = 24142828491.614578 , R2 = 0.805938\n"
     ]
    }
   ],
   "source": [
    "#模型评估\n",
    "from sklearn.metrics import mean_squared_error, r2_score\n",
    "#寻找预测值和真实值的MSE\n",
    "#MSE 越小越好\n",
    "MSE = mean_squared_error(y,y_predict)\n",
    "#R2 越接近一越好\n",
    "R2 = r2_score(y,y_predict)\n",
    "\n",
    "print('MSE = %f , R2 = %f'%(MSE,R2))"
   ],
   "metadata": {
    "collapsed": false,
    "pycharm": {
     "name": "#%%\n"
    }
   }
  },
  {
   "cell_type": "code",
   "execution_count": null,
   "outputs": [],
   "source": [],
   "metadata": {
    "collapsed": false,
    "pycharm": {
     "name": "#%%\n"
    }
   }
  }
 ],
 "metadata": {
  "kernelspec": {
   "display_name": "Python 3",
   "language": "python",
   "name": "python3"
  },
  "language_info": {
   "codemirror_mode": {
    "name": "ipython",
    "version": 2
   },
   "file_extension": ".py",
   "mimetype": "text/x-python",
   "name": "python",
   "nbconvert_exporter": "python",
   "pygments_lexer": "ipython2",
   "version": "2.7.6"
  }
 },
 "nbformat": 4,
 "nbformat_minor": 0
}