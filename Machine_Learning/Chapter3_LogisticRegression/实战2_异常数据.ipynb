{
 "cells": [
  {
   "cell_type": "raw",
   "metadata": {
    "collapsed": true,
    "pycharm": {
     "name": "#%% raw\n"
    }
   },
   "source": [
    "\n",
    "**任务:**\n",
    "基于task2_data.csv数据，建立二阶多项式逻辑回归模型实现异常消费数据预测，与线性逻辑回归模型结果进行对比。\n",
    "1、建立线性边界的逻辑回归模型，评估模型表现；\n",
    "2、建立二阶多项式边界的逻辑回归模型，对比其与线性边界的表现\n",
    "3、预测pay1=80, pay2=20时对应消费是否为异常消费\n",
    "4、获取边界函数参数、绘制边界函数"
   ]
  },
  {
   "cell_type": "code",
   "execution_count": 12,
   "metadata": {
    "pycharm": {
     "name": "#%%\n"
    }
   },
   "outputs": [
    {
     "data": {
      "text/plain": "        pay1        pay2  y\n0    2.89738    0.057948  1\n1   10.38230    8.777660  0\n2   14.00400   87.967200  1\n3  104.30600   45.734200  1\n4   80.88530  113.010600  1",
      "text/html": "<div>\n<style scoped>\n    .dataframe tbody tr th:only-of-type {\n        vertical-align: middle;\n    }\n\n    .dataframe tbody tr th {\n        vertical-align: top;\n    }\n\n    .dataframe thead th {\n        text-align: right;\n    }\n</style>\n<table border=\"1\" class=\"dataframe\">\n  <thead>\n    <tr style=\"text-align: right;\">\n      <th></th>\n      <th>pay1</th>\n      <th>pay2</th>\n      <th>y</th>\n    </tr>\n  </thead>\n  <tbody>\n    <tr>\n      <th>0</th>\n      <td>2.89738</td>\n      <td>0.057948</td>\n      <td>1</td>\n    </tr>\n    <tr>\n      <th>1</th>\n      <td>10.38230</td>\n      <td>8.777660</td>\n      <td>0</td>\n    </tr>\n    <tr>\n      <th>2</th>\n      <td>14.00400</td>\n      <td>87.967200</td>\n      <td>1</td>\n    </tr>\n    <tr>\n      <th>3</th>\n      <td>104.30600</td>\n      <td>45.734200</td>\n      <td>1</td>\n    </tr>\n    <tr>\n      <th>4</th>\n      <td>80.88530</td>\n      <td>113.010600</td>\n      <td>1</td>\n    </tr>\n  </tbody>\n</table>\n</div>"
     },
     "execution_count": 12,
     "metadata": {},
     "output_type": "execute_result"
    }
   ],
   "source": [
    "\n",
    "#数据加载\n",
    "import pandas as pd\n",
    "import numpy as np\n",
    "data = pd.read_csv('task2_data.csv')\n",
    "data.head()"
   ]
  },
  {
   "cell_type": "code",
   "execution_count": 13,
   "metadata": {
    "pycharm": {
     "name": "#%%\n"
    }
   },
   "outputs": [
    {
     "ename": "AttributeError",
     "evalue": "module 'matplotlib.pyplot' has no attribute 'paylabel'",
     "output_type": "error",
     "traceback": [
      "\u001B[0;31m---------------------------------------------------------------------------\u001B[0m",
      "\u001B[0;31mAttributeError\u001B[0m                            Traceback (most recent call last)",
      "\u001B[0;32m<ipython-input-13-b52359358d47>\u001B[0m in \u001B[0;36m<module>\u001B[0;34m\u001B[0m\n\u001B[1;32m      7\u001B[0m \u001B[0mplt\u001B[0m\u001B[0;34m.\u001B[0m\u001B[0mscatter\u001B[0m\u001B[0;34m(\u001B[0m\u001B[0mpay1\u001B[0m\u001B[0;34m,\u001B[0m\u001B[0mpay2\u001B[0m\u001B[0;34m)\u001B[0m\u001B[0;34m\u001B[0m\u001B[0;34m\u001B[0m\u001B[0m\n\u001B[1;32m      8\u001B[0m \u001B[0mplt\u001B[0m\u001B[0;34m.\u001B[0m\u001B[0mtitle\u001B[0m\u001B[0;34m(\u001B[0m\u001B[0;34m'pay2 vs pay1'\u001B[0m\u001B[0;34m)\u001B[0m\u001B[0;34m\u001B[0m\u001B[0;34m\u001B[0m\u001B[0m\n\u001B[0;32m----> 9\u001B[0;31m \u001B[0mplt\u001B[0m\u001B[0;34m.\u001B[0m\u001B[0mpaylabel\u001B[0m\u001B[0;34m(\u001B[0m\u001B[0;34m'pay1'\u001B[0m\u001B[0;34m)\u001B[0m\u001B[0;34m\u001B[0m\u001B[0;34m\u001B[0m\u001B[0m\n\u001B[0m\u001B[1;32m     10\u001B[0m \u001B[0mplt\u001B[0m\u001B[0;34m.\u001B[0m\u001B[0mylabel\u001B[0m\u001B[0;34m(\u001B[0m\u001B[0;34m'pay2'\u001B[0m\u001B[0;34m)\u001B[0m\u001B[0;34m\u001B[0m\u001B[0;34m\u001B[0m\u001B[0m\n\u001B[1;32m     11\u001B[0m \u001B[0mplt\u001B[0m\u001B[0;34m.\u001B[0m\u001B[0mshow\u001B[0m\u001B[0;34m(\u001B[0m\u001B[0;34m)\u001B[0m\u001B[0;34m\u001B[0m\u001B[0;34m\u001B[0m\u001B[0m\n",
      "\u001B[0;31mAttributeError\u001B[0m: module 'matplotlib.pyplot' has no attribute 'paylabel'"
     ]
    },
    {
     "data": {
      "text/plain": "<Figure size 432x288 with 1 Axes>",
      "image/png": "[encoded data removed]"
     },
     "metadata": {
      "needs_background": "light"
     },
     "output_type": "display_data"
    }
   ],
   "source": [
    "#数据可视化\n",
    "from matplotlib import pyplot as plt\n",
    "fig1= plt.figure()\n",
    "pay1 = data.loc[:,'pay1']\n",
    "pay2 = data.loc[:,'pay2']\n",
    "y = data.loc[:,'y']\n",
    "plt.scatter(pay1,pay2)\n",
    "plt.title('pay2 vs pay1')\n",
    "plt.paylabel('pay1')\n",
    "plt.ylabel('pay2')\n",
    "plt.show()"
   ]
  },
  {
   "cell_type": "code",
   "execution_count": 31,
   "metadata": {
    "pycharm": {
     "name": "#%%\n"
    }
   },
   "outputs": [
    {
     "name": "stdout",
     "output_type": "stream",
     "text": [
      "0       True\n",
      "1      False\n",
      "2       True\n",
      "3       True\n",
      "4       True\n",
      "       ...  \n",
      "268     True\n",
      "269     True\n",
      "270    False\n",
      "271    False\n",
      "272    False\n",
      "Name: y, Length: 273, dtype: bool\n"
     ]
    }
   ],
   "source": [
    "#创建mask\n",
    "result= y==1\n",
    "print(result)"
   ]
  },
  {
   "cell_type": "code",
   "execution_count": 32,
   "metadata": {
    "pycharm": {
     "name": "#%%\n"
    }
   },
   "outputs": [
    {
     "ename": "AttributeError",
     "evalue": "module 'matplotlib.pyplot' has no attribute 'paylabel'",
     "output_type": "error",
     "traceback": [
      "\u001B[0;31m---------------------------------------------------------------------------\u001B[0m",
      "\u001B[0;31mAttributeError\u001B[0m                            Traceback (most recent call last)",
      "\u001B[0;32m<ipython-input-32-5136e337978d>\u001B[0m in \u001B[0;36m<module>\u001B[0;34m\u001B[0m\n\u001B[1;32m      4\u001B[0m \u001B[0;34m\u001B[0m\u001B[0m\n\u001B[1;32m      5\u001B[0m \u001B[0mplt\u001B[0m\u001B[0;34m.\u001B[0m\u001B[0mtitle\u001B[0m\u001B[0;34m(\u001B[0m\u001B[0;34m'pay1_pay2'\u001B[0m\u001B[0;34m)\u001B[0m\u001B[0;34m\u001B[0m\u001B[0;34m\u001B[0m\u001B[0m\n\u001B[0;32m----> 6\u001B[0;31m \u001B[0mplt\u001B[0m\u001B[0;34m.\u001B[0m\u001B[0mpaylabel\u001B[0m\u001B[0;34m(\u001B[0m\u001B[0;34m'pay1'\u001B[0m\u001B[0;34m)\u001B[0m\u001B[0;34m\u001B[0m\u001B[0;34m\u001B[0m\u001B[0m\n\u001B[0m\u001B[1;32m      7\u001B[0m \u001B[0mplt\u001B[0m\u001B[0;34m.\u001B[0m\u001B[0mylabel\u001B[0m\u001B[0;34m(\u001B[0m\u001B[0;34m'pay2'\u001B[0m\u001B[0;34m)\u001B[0m\u001B[0;34m\u001B[0m\u001B[0;34m\u001B[0m\u001B[0m\n\u001B[1;32m      8\u001B[0m \u001B[0mplt\u001B[0m\u001B[0;34m.\u001B[0m\u001B[0mlegend\u001B[0m\u001B[0;34m(\u001B[0m\u001B[0;34m(\u001B[0m\u001B[0mabnormal\u001B[0m\u001B[0;34m,\u001B[0m\u001B[0mnormal\u001B[0m\u001B[0;34m)\u001B[0m\u001B[0;34m,\u001B[0m\u001B[0;34m(\u001B[0m\u001B[0;34m'abnormal'\u001B[0m\u001B[0;34m,\u001B[0m\u001B[0;34m'normal'\u001B[0m\u001B[0;34m)\u001B[0m\u001B[0;34m)\u001B[0m\u001B[0;34m\u001B[0m\u001B[0;34m\u001B[0m\u001B[0m\n",
      "\u001B[0;31mAttributeError\u001B[0m: module 'matplotlib.pyplot' has no attribute 'paylabel'"
     ]
    },
    {
     "data": {
      "text/plain": "<Figure size 432x288 with 1 Axes>",
      "image/png": "[encoded data removed]"
     },
     "metadata": {
      "needs_background": "light"
     },
     "output_type": "display_data"
    }
   ],
   "source": [
    "\n",
    "fig1= plt.figure()\n",
    "abnormal = plt.scatter(pay1[result],pay2[result])\n",
    "normal = plt.scatter(pay1[~result],pay2[~result])\n",
    "\n",
    "plt.title('pay1_pay2')\n",
    "plt.paylabel('pay1')\n",
    "plt.ylabel('pay2')\n",
    "plt.legend((abnormal,normal),('abnormal','normal'))\n",
    "plt.show()"
   ]
  },
  {
   "cell_type": "code",
   "execution_count": 15,
   "metadata": {
    "pycharm": {
     "name": "#%%\n"
    }
   },
   "outputs": [
    {
     "name": "stdout",
     "output_type": "stream",
     "text": [
      "(273, 2) (273,)\n"
     ]
    }
   ],
   "source": [
    "\n",
    "#赋值\n",
    "X = data.drop(['y'],axis=1)\n",
    "\n",
    "print(X.shape,y.shape)"
   ]
  },
  {
   "cell_type": "code",
   "execution_count": 16,
   "metadata": {
    "pycharm": {
     "name": "#%%\n"
    }
   },
   "outputs": [
    {
     "data": {
      "text/plain": "LogisticRegression()"
     },
     "execution_count": 16,
     "metadata": {},
     "output_type": "execute_result"
    }
   ],
   "source": [
    "#建立线性边界分类模型\n",
    "from sklearn.linear_model import LogisticRegression\n",
    "LR_1 = LogisticRegression()\n",
    "LR_1.fit(X,y)\n"
   ]
  },
  {
   "cell_type": "code",
   "execution_count": 17,
   "metadata": {
    "pycharm": {
     "name": "#%%\n"
    }
   },
   "outputs": [
    {
     "name": "stdout",
     "output_type": "stream",
     "text": [
      "[0 0 1 1 1 0 0 0 0 1 0 1 1 0 0 0 1 0 0 1 0 0 1 0 0 0 1 1 0 0 0 0 0 0 1 1 0\n",
      " 0 1 1 0 0 0 1 1 0 1 0 1 0 0 1 1 1 0 1 1 0 0 0 0 0 1 0 0 1 0 0 0 1 0 1 1 1\n",
      " 0 0 1 0 1 1 1 0 0 0 1 1 0 0 0 0 1 1 0 0 0 1 0 0 1 0 1 0 0 1 1 0 1 0 0 0 1\n",
      " 0 0 0 0 1 1 0 1 1 0 0 0 1 0 0 0 0 0 0 0 1 1 0 1 0 0 1 1 0 0 1 0 0 0 1 0 1\n",
      " 0 1 1 0 0 0 0 1 0 1 0 1 1 1 1 1 1 1 0 1 0 1 0 0 0 1 0 0 1 0 1 0 1 0 0 1 0\n",
      " 1 0 0 0 1 0 1 1 0 1 0 0 0 0 0 0 1 0 0 1 0 0 0 1 1 1 0 0 1 0 0 1 1 1 1 0 0\n",
      " 1 0 1 1 1 1 0 1 0 0 0 0 0 0 1 0 0 0 0 0 1 1 0 0 1 1 0 1 1 0 1 0 0 0 0 0 0\n",
      " 0 1 0 1 0 0 1 1 0 1 1 0 1 0]\n",
      "0      1\n",
      "1      0\n",
      "2      1\n",
      "3      1\n",
      "4      1\n",
      "      ..\n",
      "268    1\n",
      "269    1\n",
      "270    0\n",
      "271    0\n",
      "272    0\n",
      "Name: y, Length: 273, dtype: int64\n"
     ]
    }
   ],
   "source": [
    "#模型预测\n",
    "y_predict = LR_1.predict(X)\n",
    "print(y_predict)\n",
    "print(y)"
   ]
  },
  {
   "cell_type": "code",
   "execution_count": 18,
   "metadata": {
    "pycharm": {
     "name": "#%%\n"
    }
   },
   "outputs": [
    {
     "name": "stdout",
     "output_type": "stream",
     "text": [
      "0.8021978021978022\n"
     ]
    }
   ],
   "source": [
    "\n",
    "#模型评估\n",
    "from sklearn.metrics import accuracy_score\n",
    "accuracy = accuracy_score(y,y_predict)\n",
    "print(accuracy)"
   ]
  },
  {
   "cell_type": "code",
   "execution_count": 19,
   "metadata": {
    "pycharm": {
     "name": "#%%\n"
    }
   },
   "outputs": [
    {
     "name": "stdout",
     "output_type": "stream",
     "text": [
      "[-4.40891298]\n",
      "[[0.01987184 0.05845463]]\n"
     ]
    }
   ],
   "source": [
    "#获取边界函数的参数\n",
    "print(LR_1.intercept_)\n",
    "print(LR_1.coef_)"
   ]
  },
  {
   "cell_type": "code",
   "execution_count": 20,
   "metadata": {
    "pycharm": {
     "name": "#%%\n"
    }
   },
   "outputs": [
    {
     "name": "stdout",
     "output_type": "stream",
     "text": [
      "t0: -4.408912980966199 \n",
      "t1： 0.019871842206776492 \n",
      "t2： 0.05845462890840053\n"
     ]
    }
   ],
   "source": [
    "theta0 = LR_1.intercept_[0]\n",
    "theta1, theta2 = LR_1.coef_[0][0],LR_1.coef_[0][1]\n",
    "print('t0:',theta0,'\\nt1：',theta1,'\\nt2：',theta2)"
   ]
  },
  {
   "cell_type": "code",
   "execution_count": 21,
   "metadata": {
    "pycharm": {
     "name": "#%%\n"
    }
   },
   "outputs": [
    {
     "data": {
      "text/plain": "0      2.89738\n1     10.38230\n2     14.00400\n3    104.30600\n4     80.88530\nName: pay1, dtype: float64"
     },
     "execution_count": 21,
     "metadata": {},
     "output_type": "execute_result"
    }
   ],
   "source": [
    "pay1.head()"
   ]
  },
  {
   "cell_type": "code",
   "execution_count": 22,
   "metadata": {
    "pycharm": {
     "name": "#%%\n"
    }
   },
   "outputs": [
    {
     "data": {
      "text/plain": "0      74.439557\n1      71.895034\n2      70.663826\n3      39.965365\n4      47.927309\n         ...    \n268    53.344668\n269    69.760910\n270    68.858028\n271    54.001322\n272    67.134329\nName: pay1, Length: 273, dtype: float64"
     },
     "execution_count": 22,
     "metadata": {},
     "output_type": "execute_result"
    }
   ],
   "source": [
    "#基于逻辑回归计算函数的参数计算所对应的的pay2（也就是y-axis)\n",
    "pay2_pre = -(theta0+theta1*pay1)/theta2\n",
    "pay2_pre"
   ]
  },
  {
   "cell_type": "code",
   "execution_count": 23,
   "metadata": {
    "pycharm": {
     "name": "#%%\n"
    }
   },
   "outputs": [
    {
     "ename": "NameError",
     "evalue": "name 'result' is not defined",
     "output_type": "error",
     "traceback": [
      "\u001B[0;31m---------------------------------------------------------------------------\u001B[0m",
      "\u001B[0;31mNameError\u001B[0m                                 Traceback (most recent call last)",
      "\u001B[0;32m<ipython-input-23-874e4a807d85>\u001B[0m in \u001B[0;36m<module>\u001B[0;34m\u001B[0m\n\u001B[1;32m      1\u001B[0m \u001B[0mplt\u001B[0m\u001B[0;34m.\u001B[0m\u001B[0mplot\u001B[0m\u001B[0;34m(\u001B[0m\u001B[0mpay1\u001B[0m\u001B[0;34m,\u001B[0m\u001B[0mpay2_pre\u001B[0m\u001B[0;34m)\u001B[0m\u001B[0;34m\u001B[0m\u001B[0;34m\u001B[0m\u001B[0m\n\u001B[0;32m----> 2\u001B[0;31m \u001B[0mabnormal\u001B[0m \u001B[0;34m=\u001B[0m \u001B[0mplt\u001B[0m\u001B[0;34m.\u001B[0m\u001B[0mscatter\u001B[0m\u001B[0;34m(\u001B[0m\u001B[0mpay1\u001B[0m\u001B[0;34m[\u001B[0m\u001B[0mresult\u001B[0m\u001B[0;34m]\u001B[0m\u001B[0;34m,\u001B[0m\u001B[0mpay2\u001B[0m\u001B[0;34m[\u001B[0m\u001B[0mresult\u001B[0m\u001B[0;34m]\u001B[0m\u001B[0;34m)\u001B[0m\u001B[0;34m\u001B[0m\u001B[0;34m\u001B[0m\u001B[0m\n\u001B[0m\u001B[1;32m      3\u001B[0m \u001B[0mnormal\u001B[0m \u001B[0;34m=\u001B[0m \u001B[0mplt\u001B[0m\u001B[0;34m.\u001B[0m\u001B[0mscatter\u001B[0m\u001B[0;34m(\u001B[0m\u001B[0mpay1\u001B[0m\u001B[0;34m[\u001B[0m\u001B[0;34m~\u001B[0m\u001B[0mresult\u001B[0m\u001B[0;34m]\u001B[0m\u001B[0;34m,\u001B[0m\u001B[0mpay2\u001B[0m\u001B[0;34m[\u001B[0m\u001B[0;34m~\u001B[0m\u001B[0mresult\u001B[0m\u001B[0;34m]\u001B[0m\u001B[0;34m)\u001B[0m\u001B[0;34m\u001B[0m\u001B[0;34m\u001B[0m\u001B[0m\n\u001B[1;32m      4\u001B[0m \u001B[0mplt\u001B[0m\u001B[0;34m.\u001B[0m\u001B[0mlegend\u001B[0m\u001B[0;34m(\u001B[0m\u001B[0;34m(\u001B[0m\u001B[0mabnormal\u001B[0m\u001B[0;34m,\u001B[0m\u001B[0mnormal\u001B[0m\u001B[0;34m)\u001B[0m\u001B[0;34m,\u001B[0m\u001B[0;34m(\u001B[0m\u001B[0;34m'abnormal'\u001B[0m\u001B[0;34m,\u001B[0m\u001B[0;34m'normal'\u001B[0m\u001B[0;34m)\u001B[0m\u001B[0;34m)\u001B[0m\u001B[0;34m\u001B[0m\u001B[0;34m\u001B[0m\u001B[0m\n\u001B[1;32m      5\u001B[0m \u001B[0mplt\u001B[0m\u001B[0;34m.\u001B[0m\u001B[0mshow\u001B[0m\u001B[0;34m(\u001B[0m\u001B[0;34m)\u001B[0m\u001B[0;34m\u001B[0m\u001B[0;34m\u001B[0m\u001B[0m\n",
      "\u001B[0;31mNameError\u001B[0m: name 'result' is not defined"
     ]
    },
    {
     "data": {
      "text/plain": "<Figure size 432x288 with 1 Axes>",
      "image/png": "[encoded data removed]"
     },
     "metadata": {
      "needs_background": "light"
     },
     "output_type": "display_data"
    }
   ],
   "source": [
    "plt.plot(pay1,pay2_pre)\n",
    "abnormal = plt.scatter(pay1[result],pay2[result])\n",
    "normal = plt.scatter(pay1[~result],pay2[~result])\n",
    "plt.legend((abnormal,normal),('abnormal','normal'))\n",
    "plt.show()"
   ]
  },
  {
   "cell_type": "markdown",
   "metadata": {
    "pycharm": {
     "name": "#%% md\n"
    }
   },
   "source": [
    "我们可以看到，这个线性回归的预测并不是特别的准确，接下来我们要来改进我们的边界函数\n",
    "  从一次改成二次\n",
    "\n"
   ]
  },
  {
   "cell_type": "code",
   "execution_count": 24,
   "metadata": {
    "pycharm": {
     "name": "#%%\n"
    }
   },
   "outputs": [
    {
     "name": "stdout",
     "output_type": "stream",
     "text": [
      "2.89738 0.0579476 8.3948108644 0.00335792434576 0.167896217288\n"
     ]
    }
   ],
   "source": [
    "#生成二次项\n",
    "pay1_2 = pay1*pay1\n",
    "pay2_2 = pay2*pay2\n",
    "pay1_pay2 = pay1*pay2\n",
    "#取第一个元素看一下\n",
    "print(pay1[0],pay2[0],pay1_2[0],pay2_2[0],pay1_pay2[0])"
   ]
  },
  {
   "cell_type": "code",
   "execution_count": 25,
   "metadata": {
    "pycharm": {
     "name": "#%%\n"
    }
   },
   "outputs": [
    {
     "name": "stdout",
     "output_type": "stream",
     "text": [
      "          pay1        pay2        pay1_2        pay2_2    pay1_pay2\n",
      "0      2.89738    0.057948      8.394811      0.003358     0.167896\n",
      "1     10.38230    8.777660    107.792153     77.047315    91.132299\n",
      "2     14.00400   87.967200    196.112016   7738.228276  1231.892669\n",
      "3    104.30600   45.734200  10879.741636   2091.617050  4770.351465\n",
      "4     80.88530  113.010600   6542.431756  12771.395712  9140.896284\n",
      "..         ...         ...           ...           ...          ...\n",
      "268   64.94970  106.091800   4218.463530  11255.470027  6890.630582\n",
      "269   16.66000  108.059800    277.555600  11676.920376  1800.276268\n",
      "270   19.31590   39.515800    373.103993   1561.498450   763.283241\n",
      "271   63.01810   70.852400   3971.280928   5020.062586  4464.983628\n",
      "272   24.38630   55.457000    594.691628   3075.478849  1352.391039\n",
      "\n",
      "[273 rows x 5 columns]\n"
     ]
    }
   ],
   "source": [
    "#创建二次分类边界数据（整理数据）\n",
    "#创建一个字典\n",
    "pay_new = {'pay1':pay1,'pay2':pay2,'pay1_2':pay1_2,'pay2_2':pay2_2,'pay1_pay2':pay1_pay2}\n",
    "#给字典转换格式\n",
    "pay_new = pd.DataFrame(pay_new)\n",
    "\n",
    "print(pay_new)"
   ]
  },
  {
   "cell_type": "code",
   "execution_count": 26,
   "metadata": {
    "pycharm": {
     "name": "#%%\n"
    }
   },
   "outputs": [
    {
     "data": {
      "text/plain": "LogisticRegression()"
     },
     "execution_count": 26,
     "metadata": {},
     "output_type": "execute_result"
    }
   ],
   "source": [
    "#我们现在要用这5个来构造我们的逻辑回归方程\n",
    "LR2 = LogisticRegression()\n",
    "LR2.fit(pay_new,y)"
   ]
  },
  {
   "cell_type": "code",
   "execution_count": 27,
   "metadata": {
    "pycharm": {
     "name": "#%%\n"
    }
   },
   "outputs": [
    {
     "name": "stdout",
     "output_type": "stream",
     "text": [
      "[0 0 1 1 1 0 0 0 1 1 0 1 0 0 1 0 1 0 1 1 0 0 1 0 1 0 1 1 0 0 0 0 1 1 1 1 0\n",
      " 0 1 1 0 1 0 1 1 1 1 0 1 0 0 0 1 1 0 1 0 0 0 0 0 0 1 0 1 0 0 0 0 0 0 1 1 1\n",
      " 0 0 1 0 1 1 1 0 0 0 1 0 0 0 1 0 0 0 1 0 0 1 0 0 1 0 1 0 0 1 1 1 1 0 0 0 1\n",
      " 0 0 0 0 1 1 0 1 1 1 0 1 1 0 0 0 0 0 0 0 0 1 0 1 0 0 1 1 1 0 1 0 0 1 0 0 1\n",
      " 0 0 1 0 0 0 0 1 0 1 0 0 1 1 1 1 1 1 1 1 0 0 0 0 0 1 0 0 0 1 1 0 1 0 1 1 0\n",
      " 0 1 0 1 0 0 1 1 0 1 0 0 1 0 0 1 1 0 0 1 0 0 0 1 0 1 0 1 0 1 0 1 0 0 1 0 0\n",
      " 1 0 0 0 1 1 0 1 1 1 0 0 0 0 1 0 1 1 0 0 1 1 0 0 0 1 0 0 0 0 1 0 0 0 0 0 0\n",
      " 0 1 0 1 0 0 1 1 0 1 1 0 0 0]\n"
     ]
    }
   ],
   "source": [
    "y2_pre = LR2.predict(pay_new)\n",
    "print(y2_pre)"
   ]
  },
  {
   "cell_type": "code",
   "execution_count": 28,
   "metadata": {
    "pycharm": {
     "name": "#%%\n"
    }
   },
   "outputs": [
    {
     "name": "stdout",
     "output_type": "stream",
     "text": [
      "0.9743589743589743\n"
     ]
    }
   ],
   "source": [
    "accuracy2 = accuracy_score(y,y2_pre)\n",
    "print(accuracy2)\n",
    "#至此，我们已经得到了一个相对而言非常非常准确的模型了"
   ]
  },
  {
   "cell_type": "raw",
   "metadata": {
    "pycharm": {
     "name": "#%% raw\n"
    }
   },
   "source": [
    "\n",
    "#已经建立了二次逻辑回归函数，我们现在来获取它的参数：\n",
    "\n",
    "边界函数： $\\theta_0 + \\theta_1 X_1 + \\theta_2 X_2 = 0$\n",
    "\n",
    "二阶边界函数：$\\theta_0 + \\theta_1 X_1 + \\theta_2 X_2+ \\theta_3 X_1^2 + \\theta_4 X_2^2 + \\theta_5 X_1 X_2 = 0$\n",
    "\n",
    "$a x^2 + b x + c=0: x1 = (-b+(b^2-4ac)^.5)/2a,x1 = (-b-(b^2-4ac)^.5)/2a$\n",
    "\n",
    "$\\theta_4 X_2^2 + (\\theta_5 X_1+ \\theta_2) X_2 + (\\theta_0 + \\theta_1 X_1 + \\theta_3 X_1^2)=0$\n",
    "\n"
   ]
  },
  {
   "cell_type": "code",
   "execution_count": 29,
   "metadata": {
    "pycharm": {
     "name": "#%%\n"
    }
   },
   "outputs": [
    {
     "name": "stdout",
     "output_type": "stream",
     "text": [
      "[-0.00635738] -0.891534307903713 0.15639358173542114 0.008762425862030604 0.0011621091405775285 0.0006825490016426928\n"
     ]
    }
   ],
   "source": [
    "#边界函数参数获取\n",
    "theta0 = LR2.intercept_\n",
    "\n",
    "theta1,theta2,theta3,theta4,theta5 = LR2.coef_[0][0],LR2.coef_[0][1],LR2.coef_[0][2],LR2.coef_[0][3],LR2.coef_[0][4]\n",
    "print(theta0,theta1,theta2,theta3,theta4,theta5)"
   ]
  },
  {
   "cell_type": "code",
   "execution_count": 30,
   "metadata": {
    "pycharm": {
     "name": "#%%\n"
    }
   },
   "outputs": [
    {
     "name": "stdout",
     "output_type": "stream",
     "text": [
      "[[-8.91534308e-01  1.56393582e-01  8.76242586e-03  1.16210914e-03\n",
      "   6.82549002e-04]]\n"
     ]
    }
   ],
   "source": [
    "print(LR2.coef_)\n"
   ]
  },
  {
   "cell_type": "code",
   "execution_count": 34,
   "metadata": {
    "pycharm": {
     "name": "#%%\n"
    }
   },
   "outputs": [
    {
     "name": "stdout",
     "output_type": "stream",
     "text": [
      "0      14.370763\n",
      "1      39.685408\n",
      "2      48.466780\n",
      "3     -10.858283\n",
      "4      53.927598\n",
      "         ...    \n",
      "268    73.273716\n",
      "269    53.929215\n",
      "270    58.697955\n",
      "271    74.728843\n",
      "272    66.165189\n",
      "Name: pay1, Length: 273, dtype: float64\n"
     ]
    },
    {
     "name": "stderr",
     "output_type": "stream",
     "text": [
      "/Users/kylin/pythonData/lib/python3.9/site-packages/pandas/core/arraylike.py:358: RuntimeWarning: invalid value encountered in sqrt\n",
      "  result = getattr(ufunc, method)(*inputs, **kwargs)\n"
     ]
    }
   ],
   "source": [
    "a = theta4\n",
    "b = theta5*pay1 + theta2\n",
    "c = theta0+theta1*pay1+theta3*pay1*pay1\n",
    "pay2_new_2 = (-b+np.sqrt(b*b-4*a*c))/(2*a)\n",
    "print(pay2_new_2)"
   ]
  },
  {
   "cell_type": "code",
   "execution_count": 36,
   "outputs": [
    {
     "data": {
      "text/plain": "<Figure size 432x288 with 1 Axes>",
      "image/png": "[encoded data removed]"
     },
     "metadata": {
      "needs_background": "light"
     },
     "output_type": "display_data"
    }
   ],
   "source": [
    "fig2= plt.figure()\n",
    "abnormal = plt.scatter(pay1[result],pay2[result])\n",
    "normal = plt.scatter(pay1[~result],pay2[~result])\n",
    "\n",
    "plt.plot(pay1,pay2_new_2)\n",
    "plt.title('pay1_pay2')\n",
    "plt.xlabel('pay1')\n",
    "plt.ylabel('pay2')\n",
    "plt.legend((abnormal,normal),('abnormal','normal'))\n",
    "plt.show()"
   ],
   "metadata": {
    "collapsed": false,
    "pycharm": {
     "name": "#%%\n"
    }
   }
  },
  {
   "cell_type": "code",
   "execution_count": 41,
   "outputs": [
    {
     "name": "stdout",
     "output_type": "stream",
     "text": [
      "0        2.89738\n",
      "89       2.89738\n",
      "155      3.13883\n",
      "200      3.86318\n",
      "14       4.82897\n",
      "         ...    \n",
      "266    109.13500\n",
      "92     109.85900\n",
      "214    110.82500\n",
      "48     111.54900\n",
      "243    113.72200\n",
      "Name: pay1, Length: 273, dtype: float64\n"
     ]
    }
   ],
   "source": [
    "pay1_sorted = pay1.sort_values()\n",
    "print(pay1_sorted)"
   ],
   "metadata": {
    "collapsed": false,
    "pycharm": {
     "name": "#%%\n"
    }
   }
  },
  {
   "cell_type": "code",
   "execution_count": 42,
   "outputs": [
    {
     "name": "stdout",
     "output_type": "stream",
     "text": [
      "0      14.370763\n",
      "89     14.370763\n",
      "155    15.406907\n",
      "200    18.400695\n",
      "14     22.149706\n",
      "         ...    \n",
      "266   -37.754813\n",
      "92    -43.028836\n",
      "214   -50.998283\n",
      "48    -57.988155\n",
      "243          NaN\n",
      "Name: pay1, Length: 273, dtype: float64\n"
     ]
    },
    {
     "name": "stderr",
     "output_type": "stream",
     "text": [
      "/Users/kylin/pythonData/lib/python3.9/site-packages/pandas/core/arraylike.py:358: RuntimeWarning: invalid value encountered in sqrt\n",
      "  result = getattr(ufunc, method)(*inputs, **kwargs)\n"
     ]
    }
   ],
   "source": [
    "a = theta4\n",
    "b = theta5*pay1_sorted + theta2\n",
    "c = theta0+theta1*pay1_sorted+theta3*pay1_sorted*pay1_sorted\n",
    "pay2_new_2 = (-b+np.sqrt(b*b-4*a*c))/(2*a)\n",
    "print(pay2_new_2)"
   ],
   "metadata": {
    "collapsed": false,
    "pycharm": {
     "name": "#%%\n"
    }
   }
  },
  {
   "cell_type": "code",
   "execution_count": 43,
   "outputs": [
    {
     "data": {
      "text/plain": "<Figure size 432x288 with 1 Axes>",
      "image/png": "[encoded data removed]"
     },
     "metadata": {
      "needs_background": "light"
     },
     "output_type": "display_data"
    }
   ],
   "source": [
    "fig3= plt.figure()\n",
    "abnormal = plt.scatter(pay1[result],pay2[result])\n",
    "normal = plt.scatter(pay1[~result],pay2[~result])\n",
    "\n",
    "plt.plot(pay1_sorted,pay2_new_2)\n",
    "plt.title('pay1_pay2')\n",
    "plt.xlabel('pay1')\n",
    "plt.ylabel('pay2')\n",
    "plt.legend((abnormal,normal),('abnormal','normal'))\n",
    "plt.show()"
   ],
   "metadata": {
    "collapsed": false,
    "pycharm": {
     "name": "#%%\n"
    }
   }
  },
  {
   "cell_type": "code",
   "execution_count": null,
   "outputs": [],
   "source": [],
   "metadata": {
    "collapsed": false,
    "pycharm": {
     "name": "#%%\n"
    }
   }
  }
 ],
 "metadata": {
  "kernelspec": {
   "display_name": "Python 3",
   "language": "python",
   "name": "python3"
  },
  "language_info": {
   "codemirror_mode": {
    "name": "ipython",
    "version": 3
   },
   "file_extension": ".py",
   "mimetype": "text/x-python",
   "name": "python",
   "nbconvert_exporter": "python",
   "pygments_lexer": "ipython3",
   "version": "3.9.1"
  }
 },
 "nbformat": 4,
 "nbformat_minor": 1
}