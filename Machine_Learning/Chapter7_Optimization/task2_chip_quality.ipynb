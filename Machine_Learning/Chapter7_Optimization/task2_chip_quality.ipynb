{
 "cells": [
  {
   "cell_type": "markdown",
   "metadata": {},
   "source": [
    "# 综合提升之芯片品质预测"
   ]
  },
  {
   "cell_type": "raw",
   "metadata": {},
   "source": [
    "好坏质检分类实战task：\n",
    "基于task2_data数据，综合异常数据检测、PCA降维、数据分离、KNN等技术完成芯片品质预测。\n",
    "\n",
    "1、基于高斯分布概率密度函数，对两个维度数据进行分析、计算概率密度函数，寻找异常点并剔除\n",
    "2、统计分析各维度数据分布\n",
    "3、对数据进行主成分分析，计算各维度方差比例\n",
    "4、数据分离，数据分离参数：random_state=1,test_size=0.4\n",
    "5、建立KNN模型（K=3）完成分类，可视化分类边界\n",
    "6、计算测试数据集对应的混淆矩阵，准确率、召回率、特异度、精确率、F1分数\n",
    "7、尝试不同的K值（1-20）,计算其在训练数据集、测试数据集上的准确率并作图\n",
    "任务拓展：尝试其他模型完成预测：决策树、逻辑回归、朴素贝叶斯"
   ]
  },
  {
   "cell_type": "raw",
   "metadata": {},
   "source": []
  },
  {
   "cell_type": "code",
   "execution_count": 1,
   "metadata": {},
   "outputs": [
    {
     "data": {
      "text/plain": "     x1    x2  y\n0  9.23  3.97  0\n1  8.29  2.81  0\n2  7.82  1.31  0\n3  6.20  0.69  0\n4  4.79  1.14  0",
      "text/html": "<div>\n<style scoped>\n    .dataframe tbody tr th:only-of-type {\n        vertical-align: middle;\n    }\n\n    .dataframe tbody tr th {\n        vertical-align: top;\n    }\n\n    .dataframe thead th {\n        text-align: right;\n    }\n</style>\n<table border=\"1\" class=\"dataframe\">\n  <thead>\n    <tr style=\"text-align: right;\">\n      <th></th>\n      <th>x1</th>\n      <th>x2</th>\n      <th>y</th>\n    </tr>\n  </thead>\n  <tbody>\n    <tr>\n      <th>0</th>\n      <td>9.23</td>\n      <td>3.97</td>\n      <td>0</td>\n    </tr>\n    <tr>\n      <th>1</th>\n      <td>8.29</td>\n      <td>2.81</td>\n      <td>0</td>\n    </tr>\n    <tr>\n      <th>2</th>\n      <td>7.82</td>\n      <td>1.31</td>\n      <td>0</td>\n    </tr>\n    <tr>\n      <th>3</th>\n      <td>6.20</td>\n      <td>0.69</td>\n      <td>0</td>\n    </tr>\n    <tr>\n      <th>4</th>\n      <td>4.79</td>\n      <td>1.14</td>\n      <td>0</td>\n    </tr>\n  </tbody>\n</table>\n</div>"
     },
     "execution_count": 1,
     "metadata": {},
     "output_type": "execute_result"
    }
   ],
   "source": [
    "#加载数据\n",
    "import pandas as pd\n",
    "import numpy as np\n",
    "data = pd.read_csv('task2_data.csv')\n",
    "data.head()"
   ]
  },
  {
   "cell_type": "code",
   "execution_count": 2,
   "metadata": {},
   "outputs": [
    {
     "data": {
      "text/plain": "     x1    x2\n0  9.23  3.97\n1  8.29  2.81\n2  7.82  1.31\n3  6.20  0.69\n4  4.79  1.14",
      "text/html": "<div>\n<style scoped>\n    .dataframe tbody tr th:only-of-type {\n        vertical-align: middle;\n    }\n\n    .dataframe tbody tr th {\n        vertical-align: top;\n    }\n\n    .dataframe thead th {\n        text-align: right;\n    }\n</style>\n<table border=\"1\" class=\"dataframe\">\n  <thead>\n    <tr style=\"text-align: right;\">\n      <th></th>\n      <th>x1</th>\n      <th>x2</th>\n    </tr>\n  </thead>\n  <tbody>\n    <tr>\n      <th>0</th>\n      <td>9.23</td>\n      <td>3.97</td>\n    </tr>\n    <tr>\n      <th>1</th>\n      <td>8.29</td>\n      <td>2.81</td>\n    </tr>\n    <tr>\n      <th>2</th>\n      <td>7.82</td>\n      <td>1.31</td>\n    </tr>\n    <tr>\n      <th>3</th>\n      <td>6.20</td>\n      <td>0.69</td>\n    </tr>\n    <tr>\n      <th>4</th>\n      <td>4.79</td>\n      <td>1.14</td>\n    </tr>\n  </tbody>\n</table>\n</div>"
     },
     "execution_count": 2,
     "metadata": {},
     "output_type": "execute_result"
    }
   ],
   "source": [
    "#X y赋值\n",
    "X = data.drop(['y'],axis=1)\n",
    "y = data.loc[:,'y']\n",
    "X.head()"
   ]
  },
  {
   "cell_type": "code",
   "execution_count": 3,
   "metadata": {},
   "outputs": [
    {
     "data": {
      "text/plain": "<Figure size 432x288 with 1 Axes>",
      "image/png": "[encoded data removed]"
     },
     "metadata": {
      "needs_background": "light"
     },
     "output_type": "display_data"
    }
   ],
   "source": [
    "#数据可视化\n",
    "from matplotlib import pyplot as plt\n",
    "fig1 = plt.figure()\n",
    "bad = plt.scatter(X.loc[:,'x1'][y==0],X.loc[:,'x2'][y==0],marker='x',s=150,label='bad')\n",
    "good = plt.scatter(X.loc[:,'x1'][y==1],X.loc[:,'x2'][y==1],marker='o',facecolor='none',edgecolor='red',s=150,label='good')\n",
    "plt.title('chip data')\n",
    "plt.xlabel('x1')\n",
    "plt.ylabel('x2')\n",
    "plt.legend()\n",
    "plt.show()"
   ]
  },
  {
   "cell_type": "code",
   "execution_count": 4,
   "metadata": {},
   "outputs": [],
   "source": [
    "import math\n",
    "x1 = data.loc[:,'x1'][y==0]\n",
    "x2 = data.loc[:,'x2'][y==0]\n",
    "#计算均值与标准差\n",
    "u1 = x1.mean()\n",
    "sigma1 = x1.std()\n",
    "u2 = x2.mean()\n",
    "sigma2 = x2.std()\n",
    "# print(u1,sigma1,u2,sigma2)"
   ]
  },
  {
   "cell_type": "code",
   "execution_count": 5,
   "outputs": [
    {
     "name": "stdout",
     "output_type": "stream",
     "text": [
      "0     0.008934\n",
      "1     0.011729\n",
      "2     0.009050\n",
      "3     0.009334\n",
      "4     0.010360\n",
      "5     0.017426\n",
      "6     0.018206\n",
      "7     0.011982\n",
      "8     0.005428\n",
      "9     0.003318\n",
      "10    0.003993\n",
      "11    0.008846\n",
      "12    0.013695\n",
      "13    0.006155\n",
      "14    0.009603\n",
      "15    0.004068\n",
      "16    0.009740\n",
      "17    0.017871\n",
      "35    0.001980\n",
      "dtype: float64\n",
      "max p: 0.01820586881510458\n",
      "min p: 0.001979598419462152\n",
      "max/min: 9.196748510261507\n"
     ]
    }
   ],
   "source": [
    "#计算高斯分布的概率密度函数\n",
    "p1 = 1/sigma1/math.sqrt(2*math.pi)*np.exp(-np.power((x1-u1),2)/2/math.pow(sigma1,2))\n",
    "p2 = 1/sigma2/math.sqrt(2*math.pi)*np.exp(-np.power((x2-u2),2)/2/math.pow(sigma2,2))\n",
    "p = np.multiply(p1,p2)\n",
    "print(p)\n",
    "print('max p:',max(p))\n",
    "print('min p:',min(p))\n",
    "print('max/min:',max(p)/min(p))"
   ],
   "metadata": {
    "collapsed": false,
    "pycharm": {
     "name": "#%%\n"
    }
   }
  },
  {
   "cell_type": "code",
   "execution_count": 10,
   "outputs": [
    {
     "name": "stdout",
     "output_type": "stream",
     "text": [
      "[9.23 8.29 7.82 6.2  4.79 5.77 7.22 8.33 9.1  8.55 7.69 7.52 4.4  2.95\n",
      " 2.99 1.5  2.69 4.53 2.  ]\n"
     ]
    }
   ],
   "source": [
    "from scipy.stats import norm\n",
    "print(norm.mean(x1))\n"
   ],
   "metadata": {
    "collapsed": false,
    "pycharm": {
     "name": "#%%\n"
    }
   }
  },
  {
   "cell_type": "code",
   "execution_count": 5,
   "metadata": {},
   "outputs": [
    {
     "name": "stdout",
     "output_type": "stream",
     "text": [
      "18    0.012190\n",
      "19    0.014357\n",
      "20    0.010784\n",
      "21    0.016214\n",
      "22    0.011710\n",
      "23    0.019200\n",
      "24    0.040827\n",
      "25    0.049422\n",
      "26    0.040404\n",
      "27    0.022859\n",
      "28    0.010804\n",
      "29    0.029370\n",
      "30    0.038174\n",
      "31    0.013827\n",
      "32    0.018771\n",
      "33    0.020275\n",
      "34    0.009243\n",
      "dtype: float64\n",
      "max p: 0.04942244529970458\n",
      "min p: 0.00924331025588934\n",
      "max/min: 5.346833973058002\n"
     ]
    }
   ],
   "source": [
    "import math\n",
    "x1 = data.loc[:,'x1'][y==1]\n",
    "x2 = data.loc[:,'x2'][y==1]\n",
    "#计算均值与标准差\n",
    "u1 = x1.mean()\n",
    "sigma1 = x1.std()\n",
    "u2 = x2.mean()\n",
    "sigma2 = x2.std()\n",
    "# print(u1,sigma1,u2,sigma2)\n",
    "#计算高斯分布的概率密度函数\n",
    "p1 = 1/sigma1/math.sqrt(2*math.pi)*np.exp(-np.power((x1-u1),2)/2/math.pow(sigma1,2))\n",
    "p2 = 1/sigma2/math.sqrt(2*math.pi)*np.exp(-np.power((x2-u2),2)/2/math.pow(sigma2,2))\n",
    "p = np.multiply(p1,p2)\n",
    "print(p)\n",
    "print('max p:',max(p))\n",
    "print('min p:',min(p))\n",
    "print('max/min:',max(p)/min(p))"
   ]
  },
  {
   "cell_type": "code",
   "execution_count": 6,
   "metadata": {},
   "outputs": [
    {
     "name": "stdout",
     "output_type": "stream",
     "text": [
      "[ 1  1  1  1  1  1  1  1  1  1  1  1  1  1  1  1  1  1 -1]\n"
     ]
    }
   ],
   "source": [
    "#异常数据点对点检测\n",
    "from sklearn.covariance import EllipticEnvelope\n",
    "ad_model = EllipticEnvelope(contamination=0.02)\n",
    "ad_model.fit(X[y==0])\n",
    "y_predict_bad = ad_model.predict(X[y==0])\n",
    "print(y_predict_bad)"
   ]
  },
  {
   "cell_type": "code",
   "execution_count": 7,
   "metadata": {},
   "outputs": [
    {
     "data": {
      "image/png": "[encoded data removed]",
      "text/plain": [
       "<Figure size 432x288 with 1 Axes>"
      ]
     },
     "metadata": {
      "needs_background": "light"
     },
     "output_type": "display_data"
    }
   ],
   "source": [
    "fig2 = plt.figure()\n",
    "bad = plt.scatter(X.loc[:,'x1'][y==0],X.loc[:,'x2'][y==0],marker='x',s=150,label='bad')\n",
    "good = plt.scatter(X.loc[:,'x1'][y==1],X.loc[:,'x2'][y==1],marker='o',facecolor='none',edgecolor='red',s=150,label='good')\n",
    "plt.scatter(X.loc[:,'x1'][y==0][y_predict_bad==-1],X.loc[:,'x2'][y==0][y_predict_bad==-1],marker='o',s=150)\n",
    "plt.title('chip data')\n",
    "plt.xlabel('size 1')\n",
    "plt.ylabel('size 2')\n",
    "plt.legend()\n",
    "plt.show()"
   ]
  },
  {
   "cell_type": "code",
   "execution_count": 8,
   "metadata": {},
   "outputs": [
    {
     "name": "stdout",
     "output_type": "stream",
     "text": [
      "(36, 3)\n",
      "(35, 3)\n"
     ]
    }
   ],
   "source": [
    "#剔除异常数据点\n",
    "print(data.shape)\n",
    "data = data.drop(index=35)\n",
    "print(data.shape)"
   ]
  },
  {
   "cell_type": "code",
   "execution_count": 9,
   "metadata": {},
   "outputs": [
    {
     "data": {
      "image/png": "[encoded data removed]",
      "text/plain": [
       "<Figure size 432x288 with 2 Axes>"
      ]
     },
     "metadata": {
      "needs_background": "light"
     },
     "output_type": "display_data"
    }
   ],
   "source": [
    "#各维度数据分布\n",
    "fig3 = plt.figure()\n",
    "plt.subplot(121)\n",
    "plt.hist(x1,bins=10)\n",
    "plt.title('x1 data')\n",
    "plt.xlabel('x1')\n",
    "plt.ylabel('counts')\n",
    "plt.subplot(122)\n",
    "plt.hist(x2,bins=10)\n",
    "plt.title('x2 data')\n",
    "plt.xlabel('x2')\n",
    "plt.ylabel('counts')\n",
    "\n",
    "plt.show()"
   ]
  },
  {
   "cell_type": "code",
   "execution_count": 10,
   "metadata": {},
   "outputs": [
    {
     "name": "stdout",
     "output_type": "stream",
     "text": [
      "(36, 2)\n"
     ]
    }
   ],
   "source": [
    "print(X.shape)"
   ]
  },
  {
   "cell_type": "code",
   "execution_count": 11,
   "metadata": {},
   "outputs": [
    {
     "name": "stdout",
     "output_type": "stream",
     "text": [
      "(35, 2)\n"
     ]
    }
   ],
   "source": [
    "#X y赋值\n",
    "X = data.drop(['y'],axis=1)\n",
    "y = data.loc[:,'y']\n",
    "print(X.shape)"
   ]
  },
  {
   "cell_type": "code",
   "execution_count": 12,
   "metadata": {},
   "outputs": [
    {
     "name": "stdout",
     "output_type": "stream",
     "text": [
      "[0.5369408 0.4630592]\n"
     ]
    },
    {
     "data": {
      "image/png": "[encoded data removed]",
      "text/plain": [
       "<Figure size 432x288 with 1 Axes>"
      ]
     },
     "metadata": {
      "needs_background": "light"
     },
     "output_type": "display_data"
    }
   ],
   "source": [
    "#主成分分析\n",
    "from sklearn.preprocessing import StandardScaler\n",
    "from sklearn.decomposition import PCA\n",
    "X_norm = StandardScaler().fit_transform(X)\n",
    "pca = PCA(n_components=2)\n",
    "X_reduced = pca.fit_transform(X_norm)\n",
    "var_ratio = pca.explained_variance_ratio_\n",
    "print(var_ratio)\n",
    "fig4 = plt.figure()\n",
    "plt.bar([1,2],var_ratio)\n",
    "plt.xticks([1,2],['PC1','PC2'])\n",
    "plt.show()"
   ]
  },
  {
   "cell_type": "code",
   "execution_count": 13,
   "metadata": {},
   "outputs": [
    {
     "name": "stdout",
     "output_type": "stream",
     "text": [
      "(21, 2) (14, 2) (35, 2)\n"
     ]
    }
   ],
   "source": [
    "#数据分离\n",
    "from  sklearn.model_selection import train_test_split\n",
    "X_train,X_test,y_train,y_test = train_test_split(X,y,random_state=1,test_size=0.4)\n",
    "print(X_train.shape,X_test.shape,X.shape)"
   ]
  },
  {
   "cell_type": "code",
   "execution_count": 14,
   "metadata": {},
   "outputs": [
    {
     "data": {
      "text/plain": [
       "KNeighborsClassifier(n_neighbors=3)"
      ]
     },
     "execution_count": 14,
     "metadata": {},
     "output_type": "execute_result"
    }
   ],
   "source": [
    "#建立knn模型 k=3\n",
    "from sklearn.neighbors import KNeighborsClassifier\n",
    "knn_3 = KNeighborsClassifier(n_neighbors=3)\n",
    "knn_3.fit(X_train,y_train)"
   ]
  },
  {
   "cell_type": "code",
   "execution_count": 15,
   "metadata": {},
   "outputs": [
    {
     "name": "stdout",
     "output_type": "stream",
     "text": [
      "[1 1 0 1 0 1 0 0 0 0 0 1 0 1 0 0 0 0 0 0 0] [0 1 0 1 1 0 0 1 1 1 1 1 0 0]\n"
     ]
    }
   ],
   "source": [
    "#模型预测\n",
    "y_train_predict = knn_3.predict(X_train)\n",
    "y_test_predict = knn_3.predict(X_test)\n",
    "print(y_train_predict,y_test_predict)"
   ]
  },
  {
   "cell_type": "code",
   "execution_count": 16,
   "metadata": {},
   "outputs": [
    {
     "name": "stdout",
     "output_type": "stream",
     "text": [
      "0.8095238095238095 0.7857142857142857\n"
     ]
    }
   ],
   "source": [
    "from sklearn.metrics import accuracy_score\n",
    "accuracy_train = accuracy_score(y_train,y_train_predict)\n",
    "accuracy_test = accuracy_score(y_test,y_test_predict)\n",
    "print(accuracy_train,accuracy_test)"
   ]
  },
  {
   "cell_type": "code",
   "execution_count": 17,
   "metadata": {},
   "outputs": [
    {
     "name": "stdout",
     "output_type": "stream",
     "text": [
      "(40000, 2)\n",
      "[[0.   0.  ]\n",
      " [0.05 0.  ]\n",
      " [0.1  0.  ]\n",
      " ...\n",
      " [9.85 9.95]\n",
      " [9.9  9.95]\n",
      " [9.95 9.95]]\n"
     ]
    }
   ],
   "source": [
    "#结果可视化\n",
    "#生成用于结果可视化的数据集\n",
    "xx,yy = np.meshgrid(np.arange(0,10,0.05),np.arange(0,10,0.05))\n",
    "#数据展开\n",
    "x_range = np.c_[xx.ravel(),yy.ravel()]\n",
    "print(x_range.shape)\n",
    "print(x_range)"
   ]
  },
  {
   "cell_type": "code",
   "execution_count": 18,
   "metadata": {},
   "outputs": [],
   "source": [
    "#预测生成的数据对应的类别\n",
    "y_range_predict = knn_3.predict(x_range)"
   ]
  },
  {
   "cell_type": "code",
   "execution_count": 19,
   "metadata": {},
   "outputs": [
    {
     "data": {
      "image/png": "[encoded data removed]",
      "text/plain": [
       "<Figure size 432x288 with 1 Axes>"
      ]
     },
     "metadata": {
      "needs_background": "light"
     },
     "output_type": "display_data"
    }
   ],
   "source": [
    "fig4 = plt.figure()\n",
    "\n",
    "bad_p = plt.scatter(x_range[:,0][y_range_predict==0],x_range[:,1][y_range_predict==0],label='bad_p')\n",
    "good_p = plt.scatter(x_range[:,0][y_range_predict==1],x_range[:,1][y_range_predict==1],label='good_p')\n",
    "\n",
    "bad = plt.scatter(X.loc[:,'x1'][y==0],X.loc[:,'x2'][y==0],marker='x',s=150,label='bad')\n",
    "good = plt.scatter(X.loc[:,'x1'][y==1],X.loc[:,'x2'][y==1],marker='o',facecolor='none',edgecolor='red',s=150,label='good')\n",
    "\n",
    "\n",
    "plt.title('chip data')\n",
    "plt.xlabel('size 1')\n",
    "plt.ylabel('size 2')\n",
    "plt.legend()\n",
    "plt.show()"
   ]
  },
  {
   "cell_type": "code",
   "execution_count": 20,
   "metadata": {},
   "outputs": [
    {
     "name": "stdout",
     "output_type": "stream",
     "text": [
      "[[4 1]\n",
      " [2 7]]\n"
     ]
    }
   ],
   "source": [
    "#计算混淆矩阵\n",
    "from sklearn.metrics import confusion_matrix\n",
    "cm = confusion_matrix(y_test,y_test_predict)\n",
    "print(cm)"
   ]
  },
  {
   "cell_type": "markdown",
   "metadata": {},
   "source": [
    "![confusion_matrix](images/06_confusion_matrix.png)"
   ]
  },
  {
   "cell_type": "code",
   "execution_count": 21,
   "metadata": {},
   "outputs": [
    {
     "name": "stdout",
     "output_type": "stream",
     "text": [
      "7 4 1 2\n"
     ]
    }
   ],
   "source": [
    "#获取混淆矩阵元素\n",
    "TP = cm[1,1]\n",
    "TN = cm[0,0]\n",
    "FP = cm[0,1]\n",
    "FN = cm[1,0]\n",
    "print(TP,TN,FP,FN)"
   ]
  },
  {
   "cell_type": "markdown",
   "metadata": {},
   "source": [
    "**准确率:** 整体样本中，预测正确样本数的比例\n",
    "- Accuracy = (TP + TN)/(TP + TN + FP + FN)"
   ]
  },
  {
   "cell_type": "code",
   "execution_count": 22,
   "metadata": {},
   "outputs": [
    {
     "name": "stdout",
     "output_type": "stream",
     "text": [
      "0.7857142857142857\n"
     ]
    }
   ],
   "source": [
    "accuracy = (TP+TN)/(TP+TN+FP+FN)\n",
    "print(accuracy)"
   ]
  },
  {
   "cell_type": "markdown",
   "metadata": {},
   "source": [
    "**灵敏度（召回率）:** 正样本中，预测正确的比例\n",
    "- Sensitivity = Recall = TP/(TP + FN)"
   ]
  },
  {
   "cell_type": "code",
   "execution_count": 23,
   "metadata": {},
   "outputs": [
    {
     "name": "stdout",
     "output_type": "stream",
     "text": [
      "0.7777777777777778\n"
     ]
    }
   ],
   "source": [
    "recall = TP/(TP + FN)\n",
    "print(recall)"
   ]
  },
  {
   "cell_type": "markdown",
   "metadata": {},
   "source": [
    "**特异度:** 负样本中，预测正确的比例\n",
    "- Specificity = TN/(TN + FP)"
   ]
  },
  {
   "cell_type": "code",
   "execution_count": 24,
   "metadata": {},
   "outputs": [
    {
     "name": "stdout",
     "output_type": "stream",
     "text": [
      "0.8\n"
     ]
    }
   ],
   "source": [
    "specificity = TN/(TN + FP)\n",
    "print(specificity)"
   ]
  },
  {
   "cell_type": "markdown",
   "metadata": {},
   "source": [
    "**精确率:** 预测结果为正的样本中，预测正确的比例\n",
    "- Precision = TP/(TP + FP)"
   ]
  },
  {
   "cell_type": "code",
   "execution_count": 25,
   "metadata": {},
   "outputs": [
    {
     "name": "stdout",
     "output_type": "stream",
     "text": [
      "0.875\n"
     ]
    }
   ],
   "source": [
    "precision = TP/(TP + FP)\n",
    "print(precision)"
   ]
  },
  {
   "cell_type": "markdown",
   "metadata": {},
   "source": [
    "**F1分数:** 综合Precision和Recall的一个判断指标\n",
    "- F1 Score = 2*Precision X Recall/(Precision + Recall)"
   ]
  },
  {
   "cell_type": "code",
   "execution_count": 26,
   "metadata": {},
   "outputs": [
    {
     "name": "stdout",
     "output_type": "stream",
     "text": [
      "0.823529411764706\n"
     ]
    }
   ],
   "source": [
    "f1 = 2*precision*recall/(precision+recall)\n",
    "print(f1)"
   ]
  },
  {
   "cell_type": "code",
   "execution_count": 27,
   "metadata": {},
   "outputs": [
    {
     "name": "stdout",
     "output_type": "stream",
     "text": [
      "[1.0, 0.8571428571428571, 0.8095238095238095, 0.7619047619047619, 0.8571428571428571, 0.8095238095238095, 0.8095238095238095, 0.8095238095238095, 0.8095238095238095, 0.8095238095238095, 0.7619047619047619, 0.8095238095238095, 0.8095238095238095, 0.8095238095238095, 0.7619047619047619, 0.6190476190476191, 0.6190476190476191, 0.6190476190476191, 0.6190476190476191, 0.6190476190476191] [0.7142857142857143, 0.6428571428571429, 0.7857142857142857, 0.6428571428571429, 0.8571428571428571, 0.6428571428571429, 0.7142857142857143, 0.5714285714285714, 0.7142857142857143, 0.6428571428571429, 0.7142857142857143, 0.6428571428571429, 0.7142857142857143, 0.5714285714285714, 0.6428571428571429, 0.35714285714285715, 0.35714285714285715, 0.35714285714285715, 0.35714285714285715, 0.35714285714285715]\n"
     ]
    }
   ],
   "source": [
    "#尝试不同的k值并计算准确率\n",
    "n = [i for i in range(1,21)]\n",
    "accuracy_train = []\n",
    "accuracy_test = []\n",
    "for i in n:\n",
    "    knn_i = KNeighborsClassifier(n_neighbors=i)\n",
    "    knn_i.fit(X_train,y_train)\n",
    "    y_train_predict = knn_i.predict(X_train)\n",
    "    y_test_predict = knn_i.predict(X_test)\n",
    "    accuracy_train_i = accuracy_score(y_train,y_train_predict)\n",
    "    accuracy_test_i = accuracy_score(y_test,y_test_predict)\n",
    "    accuracy_train.append(accuracy_train_i)\n",
    "    accuracy_test.append(accuracy_test_i)\n",
    "print(accuracy_train,accuracy_test)"
   ]
  },
  {
   "cell_type": "code",
   "execution_count": 28,
   "metadata": {},
   "outputs": [
    {
     "data": {
      "image/png": "[encoded data removed]",
      "text/plain": [
       "<Figure size 864x360 with 2 Axes>"
      ]
     },
     "metadata": {
      "needs_background": "light"
     },
     "output_type": "display_data"
    }
   ],
   "source": [
    "#k值变化对准确率影响的结果可视化\n",
    "fig10 = plt.figure(figsize=(12,5))\n",
    "plt.subplot(121)\n",
    "plt.plot(n,accuracy_train,marker='o')\n",
    "plt.title('training data accuracy ')\n",
    "plt.xlabel('k')\n",
    "plt.ylabel('accuracy')\n",
    "\n",
    "plt.subplot(122)\n",
    "plt.plot(n,accuracy_test,marker='o')\n",
    "plt.title('test data accuracy ')\n",
    "plt.xlabel('k')\n",
    "plt.ylabel('accuracy')\n",
    "plt.show()"
   ]
  },
  {
   "cell_type": "raw",
   "metadata": {},
   "source": [
    "综合提升之芯片品质预测实战summary：\n",
    "\n",
    "1、通过进行基于高斯分布概率密度函数的异常检测方法，帮助找到了潜在的异常数据点；\n",
    "2、对各维度数据统计其数据分布后，发现各维度属性数据量级接近；\n",
    "3、通过PCA分析，建议保留2维数据集、不进行数据降维操作；\n",
    "4、实现了训练数据与测试数据的分离，并计算模型对于测试数据的预测准确率\n",
    "5、计算得到混淆矩阵，实现模型更全面的评估\n",
    "6、通过调整核心参数n_neighbors值，再计算对应的准确率，可以帮助我们更好的确定使用哪个模型\n",
    "\n",
    "核心算法参考链接：https://scikit-learn.org/stable/modules/generated/sklearn.neighbors.KNeighborsClassifier.html#sklearn.neighbors.KNeighborsClassifier"
   ]
  },
  {
   "cell_type": "raw",
   "metadata": {},
   "source": [
    "学习资料链接（如果无法扫码，可添加小助手微信ai_flare获取）："
   ]
  },
  {
   "cell_type": "markdown",
   "metadata": {},
   "source": [
    "![materials](materials2.png)"
   ]
  },
  {
   "cell_type": "code",
   "execution_count": null,
   "metadata": {},
   "outputs": [],
   "source": []
  }
 ],
 "metadata": {
  "kernelspec": {
   "display_name": "Python 3",
   "language": "python",
   "name": "python3"
  },
  "language_info": {
   "codemirror_mode": {
    "name": "ipython",
    "version": 3
   },
   "file_extension": ".py",
   "mimetype": "text/x-python",
   "name": "python",
   "nbconvert_exporter": "python",
   "pygments_lexer": "ipython3",
   "version": "3.7.0"
  }
 },
 "nbformat": 4,
 "nbformat_minor": 2
}