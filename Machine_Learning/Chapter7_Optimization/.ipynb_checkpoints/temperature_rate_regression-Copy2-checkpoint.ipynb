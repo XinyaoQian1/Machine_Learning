{
 "cells": [
  {
   "cell_type": "raw",
   "metadata": {},
   "source": [
    "酶活性预测实战task：\n",
    "1、基于T-R-train.csv数据，建立线性回归模型，计算其在T-R-test.csv数据上的r2分数，可视化模型预测结果 \n",
    "2、加入多项式特征（2次、5次），建立回归模型\n",
    "3、计算多项式回归模型对测试数据进行预测的r2分数，判断哪个模型预测更准确\n",
    "4、可视化多项式回归模型数据预测结果，判断哪个模型预测更准确"
   ]
  },
  {
   "cell_type": "code",
   "execution_count": 1,
   "metadata": {},
   "outputs": [
    {
     "data": {
      "text/html": [
       "<div>\n",
       "<style scoped>\n",
       "    .dataframe tbody tr th:only-of-type {\n",
       "        vertical-align: middle;\n",
       "    }\n",
       "\n",
       "    .dataframe tbody tr th {\n",
       "        vertical-align: top;\n",
       "    }\n",
       "\n",
       "    .dataframe thead th {\n",
       "        text-align: right;\n",
       "    }\n",
       "</style>\n",
       "<table border=\"1\" class=\"dataframe\">\n",
       "  <thead>\n",
       "    <tr style=\"text-align: right;\">\n",
       "      <th></th>\n",
       "      <th>x_d</th>\n",
       "      <th>y_d</th>\n",
       "    </tr>\n",
       "  </thead>\n",
       "  <tbody>\n",
       "    <tr>\n",
       "      <th>0</th>\n",
       "      <td>232.2740</td>\n",
       "      <td>338.592</td>\n",
       "    </tr>\n",
       "    <tr>\n",
       "      <th>1</th>\n",
       "      <td>64.8744</td>\n",
       "      <td>141.990</td>\n",
       "    </tr>\n",
       "    <tr>\n",
       "      <th>2</th>\n",
       "      <td>88.8854</td>\n",
       "      <td>201.456</td>\n",
       "    </tr>\n",
       "    <tr>\n",
       "      <th>3</th>\n",
       "      <td>116.5170</td>\n",
       "      <td>262.136</td>\n",
       "    </tr>\n",
       "    <tr>\n",
       "      <th>4</th>\n",
       "      <td>151.4440</td>\n",
       "      <td>302.184</td>\n",
       "    </tr>\n",
       "    <tr>\n",
       "      <th>5</th>\n",
       "      <td>186.4150</td>\n",
       "      <td>324.029</td>\n",
       "    </tr>\n",
       "    <tr>\n",
       "      <th>6</th>\n",
       "      <td>221.4130</td>\n",
       "      <td>334.951</td>\n",
       "    </tr>\n",
       "    <tr>\n",
       "      <th>7</th>\n",
       "      <td>243.1490</td>\n",
       "      <td>336.165</td>\n",
       "    </tr>\n",
       "    <tr>\n",
       "      <th>8</th>\n",
       "      <td>255.2350</td>\n",
       "      <td>332.524</td>\n",
       "    </tr>\n",
       "    <tr>\n",
       "      <th>9</th>\n",
       "      <td>268.5380</td>\n",
       "      <td>325.243</td>\n",
       "    </tr>\n",
       "    <tr>\n",
       "      <th>10</th>\n",
       "      <td>290.3210</td>\n",
       "      <td>307.039</td>\n",
       "    </tr>\n",
       "    <tr>\n",
       "      <th>11</th>\n",
       "      <td>309.6980</td>\n",
       "      <td>285.194</td>\n",
       "    </tr>\n",
       "  </tbody>\n",
       "</table>\n",
       "</div>"
      ],
      "text/plain": [
       "         x_d      y_d\n",
       "0   232.2740  338.592\n",
       "1    64.8744  141.990\n",
       "2    88.8854  201.456\n",
       "3   116.5170  262.136\n",
       "4   151.4440  302.184\n",
       "5   186.4150  324.029\n",
       "6   221.4130  334.951\n",
       "7   243.1490  336.165\n",
       "8   255.2350  332.524\n",
       "9   268.5380  325.243\n",
       "10  290.3210  307.039\n",
       "11  309.6980  285.194"
      ]
     },
     "execution_count": 1,
     "metadata": {},
     "output_type": "execute_result"
    }
   ],
   "source": [
    "#load the data\n",
    "import pandas as pd\n",
    "import numpy as np\n",
    "data_train = pd.read_csv('task1_train_data.csv')\n",
    "data_train\n"
   ]
  },
  {
   "cell_type": "code",
   "execution_count": 2,
   "metadata": {},
   "outputs": [],
   "source": [
    "#define X_train and y_train\n",
    "X_train = data_train.loc[:,'x_d']\n",
    "y_train = data_train.loc[:,'y_d']"
   ]
  },
  {
   "cell_type": "code",
   "execution_count": 3,
   "metadata": {},
   "outputs": [
    {
     "data": {
      "image/png": "[encoded data removed]",
      "text/plain": [
       "<Figure size 360x360 with 1 Axes>"
      ]
     },
     "metadata": {
      "needs_background": "light"
     },
     "output_type": "display_data"
    }
   ],
   "source": [
    "#visualize the data\n",
    "%matplotlib inline\n",
    "from matplotlib import pyplot as plt\n",
    "fig1 = plt.figure(figsize=(5,5))\n",
    "plt.scatter(X_train,y_train)\n",
    "plt.title('raw data')\n",
    "plt.xlabel('x_d')\n",
    "plt.ylabel('y_d')\n",
    "plt.show()"
   ]
  },
  {
   "cell_type": "code",
   "execution_count": 4,
   "metadata": {},
   "outputs": [],
   "source": [
    "X_train = np.array(X_train).reshape(-1,1)"
   ]
  },
  {
   "cell_type": "code",
   "execution_count": 5,
   "metadata": {},
   "outputs": [
    {
     "data": {
      "text/plain": [
       "LinearRegression(copy_X=True, fit_intercept=True, n_jobs=None, normalize=False)"
      ]
     },
     "execution_count": 5,
     "metadata": {},
     "output_type": "execute_result"
    }
   ],
   "source": [
    "#linear regression model prediction\n",
    "from sklearn.linear_model import  LinearRegression\n",
    "lr1 = LinearRegression()\n",
    "lr1.fit(X_train,y_train)"
   ]
  },
  {
   "cell_type": "code",
   "execution_count": 6,
   "metadata": {},
   "outputs": [],
   "source": [
    "#load the test data\n",
    "data_test = pd.read_csv('task1_test_data.csv')\n",
    "X_test = data_test.loc[:,'x_d']\n",
    "y_test = data_test.loc[:,'y_d']"
   ]
  },
  {
   "cell_type": "code",
   "execution_count": 7,
   "metadata": {},
   "outputs": [],
   "source": [
    "X_test = np.array(X_test).reshape(-1,1)"
   ]
  },
  {
   "cell_type": "code",
   "execution_count": 8,
   "metadata": {},
   "outputs": [
    {
     "name": "stdout",
     "output_type": "stream",
     "text": [
      "training r2: 0.5756251457400435\n",
      "test r2: -2.1893754185710854\n"
     ]
    }
   ],
   "source": [
    "#make prediction on the training and testing data\n",
    "y_train_predict = lr1.predict(X_train)\n",
    "y_test_predict = lr1.predict(X_test)\n",
    "from sklearn.metrics import r2_score\n",
    "r2_train = r2_score(y_train,y_train_predict)\n",
    "r2_test = r2_score(y_test,y_test_predict)\n",
    "print('training r2:',r2_train)\n",
    "print('test r2:',r2_test)"
   ]
  },
  {
   "cell_type": "code",
   "execution_count": 9,
   "metadata": {},
   "outputs": [],
   "source": [
    "#generate new data\n",
    "X_range = np.linspace(40,400,300).reshape(-1,1)\n",
    "y_range_predict = lr1.predict(X_range)"
   ]
  },
  {
   "cell_type": "code",
   "execution_count": 10,
   "metadata": {},
   "outputs": [
    {
     "data": {
      "image/png": "[encoded data removed]",
      "text/plain": [
       "<Figure size 360x360 with 1 Axes>"
      ]
     },
     "metadata": {
      "needs_background": "light"
     },
     "output_type": "display_data"
    }
   ],
   "source": [
    "fig2 = plt.figure(figsize=(5,5))\n",
    "plt.plot(X_range,y_range_predict)\n",
    "plt.scatter(X_train,y_train)\n",
    "\n",
    "plt.title('prediction data')\n",
    "plt.xlabel('x_d')\n",
    "plt.ylabel('y_d')\n",
    "plt.show()"
   ]
  },
  {
   "cell_type": "code",
   "execution_count": 16,
   "metadata": {},
   "outputs": [
    {
     "name": "stdout",
     "output_type": "stream",
     "text": [
      "(12, 7)\n"
     ]
    }
   ],
   "source": [
    "#多项式模型\n",
    "#generate new features\n",
    "from sklearn.preprocessing import PolynomialFeatures\n",
    "poly2 = PolynomialFeatures(degree=2)\n",
    "X_2_train = poly2.fit_transform(X_train)\n",
    "X_2_test = poly2.transform(X_test)\n",
    "poly5 = PolynomialFeatures(degree=6)\n",
    "X_5_train = poly5.fit_transform(X_train)\n",
    "X_5_test = poly5.transform(X_test)\n",
    "print(X_5_train.shape)"
   ]
  },
  {
   "cell_type": "code",
   "execution_count": 18,
   "metadata": {},
   "outputs": [
    {
     "name": "stdout",
     "output_type": "stream",
     "text": [
      "0     338.592\n",
      "1     141.990\n",
      "2     201.456\n",
      "3     262.136\n",
      "4     302.184\n",
      "5     324.029\n",
      "6     334.951\n",
      "7     336.165\n",
      "8     332.524\n",
      "9     325.243\n",
      "10    307.039\n",
      "11    285.194\n",
      "Name: y_d, dtype: float64\n"
     ]
    }
   ],
   "source": [
    "print(y_train)\n",
    "# print(X_5_train)"
   ]
  },
  {
   "cell_type": "code",
   "execution_count": 12,
   "metadata": {},
   "outputs": [
    {
     "name": "stdout",
     "output_type": "stream",
     "text": [
      "training r2_2: 0.9954725354913146\n",
      "test r2_2: 0.8733263968621976\n",
      "training r2_5: 0.998897237612736\n",
      "test r2_5: 0.9560996879223495\n"
     ]
    }
   ],
   "source": [
    "lr2 = LinearRegression()\n",
    "lr2.fit(X_2_train,y_train)\n",
    "\n",
    "\n",
    "y_2_train_predict = lr2.predict(X_2_train)\n",
    "y_2_test_predict = lr2.predict(X_2_test)\n",
    "r2_2_train = r2_score(y_train,y_2_train_predict)\n",
    "r2_2_test = r2_score(y_test,y_2_test_predict)\n",
    "\n",
    "lr5 = LinearRegression()\n",
    "lr5.fit(X_5_train,y_train)\n",
    "\n",
    "\n",
    "y_5_train_predict = lr5.predict(X_5_train)\n",
    "y_5_test_predict = lr5.predict(X_5_test)\n",
    "r2_5_train = r2_score(y_train,y_5_train_predict)\n",
    "r2_5_test = r2_score(y_test,y_5_test_predict)\n",
    "\n",
    "\n",
    "\n",
    "\n",
    "print('training r2_2:',r2_2_train)\n",
    "print('test r2_2:',r2_2_test)\n",
    "print('training r2_5:',r2_5_train)\n",
    "print('test r2_5:',r2_5_test)"
   ]
  },
  {
   "cell_type": "code",
   "execution_count": 20,
   "metadata": {},
   "outputs": [
    {
     "name": "stdout",
     "output_type": "stream",
     "text": [
      "LinearRegression(copy_X=True, fit_intercept=True, n_jobs=None, normalize=False)\n",
      "training r2_5: 0.9997685987915848\n",
      "test r2_5: -3.8850064608646857\n"
     ]
    }
   ],
   "source": [
    "lr5 = LinearRegression()\n",
    "print(lr5)\n",
    "lr5.fit(X_5_train,y_train)\n",
    "\n",
    "y_5_train_predict = lr5.predict(X_5_train)\n",
    "y_5_test_predict = lr5.predict(X_5_test)\n",
    "r2_5_train = r2_score(y_train,y_5_train_predict)\n",
    "r2_5_test = r2_score(y_test,y_5_test_predict)\n",
    "\n",
    "print('training r2_5:',r2_5_train)\n",
    "print('test r2_5:',r2_5_test)"
   ]
  },
  {
   "cell_type": "code",
   "execution_count": 21,
   "metadata": {},
   "outputs": [],
   "source": [
    "X_2_range = np.linspace(40,400,300).reshape(-1,1)\n",
    "X_2_range = poly2.transform(X_2_range)\n",
    "y_2_range_predict = lr2.predict(X_2_range)\n",
    "\n",
    "X_5_range = np.linspace(40,400,300).reshape(-1,1)\n",
    "X_5_range = poly5.transform(X_5_range)\n",
    "y_5_range_predict = lr5.predict(X_5_range)"
   ]
  },
  {
   "cell_type": "code",
   "execution_count": 23,
   "metadata": {},
   "outputs": [
    {
     "name": "stdout",
     "output_type": "stream",
     "text": [
      "[ 104.27091071  104.54362737  105.03611356  105.73686803  106.63473434\n",
      "  107.71889479  108.97886425  110.40448417  111.9859166   113.7136382\n",
      "  115.57843443  117.57139364  119.68390135  121.90763446  124.23455559\n",
      "  126.65690745  129.16720724  131.75824114  134.4230588   137.15496791\n",
      "  139.94752884  142.79454928  145.69007898  148.6284045   151.60404402\n",
      "  154.61174227  157.64646535  160.70339578  163.77792749  166.8656609\n",
      "  169.96239801  173.0641376   176.16707046  179.26757463  182.36221073\n",
      "  185.44771736  188.52100648  191.57915892  194.61941986  197.63919447\n",
      "  200.63604347  203.60767881  206.55195943  209.46688703  212.35060186\n",
      "  215.20137861  218.01762236  220.79786454  223.54075893  226.24507778\n",
      "  228.90970791  231.5336469   234.1159993   236.65597293  239.15287521\n",
      "  241.60610949  244.01517156  246.37964604  248.699203    250.97359446\n",
      "  253.20265107  255.38627878  257.52445554  259.61722814  261.66470898\n",
      "  263.66707301  265.62455462  267.53744462  269.4060873   271.23087752\n",
      "  273.01225779  274.75071552  276.44678021  278.10102075  279.71404274\n",
      "  281.28648591  282.81902152  284.31234987  285.7671978   287.18431634\n",
      "  288.56447828  289.90847589  291.21711867  292.4912311   293.73165052\n",
      "  294.93922499  296.11481123  297.25927262  298.37347725  299.45829597\n",
      "  300.51460058  301.54326199  302.54514846  303.5211239   304.47204622\n",
      "  305.3987657   306.30212345  307.18294991  308.04206335  308.88026851\n",
      "  309.69835523  310.49709714  311.27725039  312.03955248  312.78472106\n",
      "  313.51345287  314.22642265  314.92428217  315.60765922  316.27715678\n",
      "  316.93335211  317.57679597  318.20801188  318.82749537  319.4357134\n",
      "  320.03310368  320.62007418  321.19700261  321.76423596  322.3220901\n",
      "  322.87084945  323.41076665  323.94206235  324.46492496  324.97951056\n",
      "  325.48594275  325.98431265  326.47467884  326.95706748  327.43147237\n",
      "  327.89785513  328.35614537  328.80624098  329.2480084   329.68128303\n",
      "  330.10586955  330.52154247  330.92804656  331.32509745  331.71238222\n",
      "  332.08956006  332.45626297  332.81209653  333.15664071  333.4894507\n",
      "  333.81005785  334.11797063  334.41267561  334.69363854  334.96030545\n",
      "  335.21210382  335.4484438   335.66871944  335.87231002  336.05858142\n",
      "  336.2268875   336.37657162  336.50696808  336.61740374  336.70719961\n",
      "  336.7756725   336.82213676  336.84590605  336.84629511  336.82262166\n",
      "  336.77420832  336.70038455  336.60048869  336.47387001  336.31989082\n",
      "  336.13792867  335.92737853  335.68765508  335.41819502  335.11845942\n",
      "  334.7879362   334.42614251  334.03262732  333.60697396  333.14880274\n",
      "  332.65777364  332.13358898  331.57599627  330.98479096  330.35981933\n",
      "  329.70098144  329.00823407  328.28159377  327.52113989  326.72701776\n",
      "  325.89944181  325.03869883  324.14515122  323.21924034  322.26148987\n",
      "  321.27250922  320.25299703  319.20374469  318.12563992  317.01967036\n",
      "  315.88692731  314.72860941  313.54602642  312.34060307  311.11388292\n",
      "  309.86753231  308.6033443   307.32324274  306.02928632  304.72367272\n",
      "  303.40874278  302.08698474  300.76103849  299.43369994  298.10792539\n",
      "  296.78683595  295.47372202  294.17204785  292.88545608  291.61777244\n",
      "  290.37301033  289.15537567  287.96927159  286.81930333  285.71028307\n",
      "  284.64723492  283.63539987  282.68024081  281.78744767  280.96294252\n",
      "  280.21288474  279.54367632  278.96196706  278.47466     278.08891672\n",
      "  277.81216286  277.65209355  277.61667896  277.71416992  277.95310353\n",
      "  278.34230885  278.89091265  279.60834521  280.50434615  281.5889703\n",
      "  282.87259368  284.36591948  286.07998409  288.02616319  290.21617793\n",
      "  292.66210107  295.37636327  298.37175934  301.66145463  305.2589914\n",
      "  309.17829527  313.43368169  318.03986255  323.01195269  328.36547664\n",
      "  334.11637523  340.28101238  346.87618192  353.91911438  361.42748394\n",
      "  369.41941533  377.91349088  386.92875754  396.48473398  406.60141774\n",
      "  417.29929244  428.59933501  440.52302303  453.09234202  466.32979292\n",
      "  480.25839945  494.90171571  510.28383364  526.42939069  543.36357744\n",
      "  561.11214531  579.70141431  599.15828088  619.51022567  640.78532151\n",
      "  663.01224135  686.22026625  710.43929344  735.69984443  762.03307317\n",
      "  789.47077426  818.04539119  847.79002467  878.73844095  910.92508027\n",
      "  944.3850653   979.15420966 1015.26902645 1052.76673688 1091.68527894]\n"
     ]
    }
   ],
   "source": [
    "print(y_5_range_predict)"
   ]
  },
  {
   "cell_type": "code",
   "execution_count": 14,
   "metadata": {},
   "outputs": [
    {
     "data": {
      "image/png": "[encoded data removed]",
      "text/plain": [
       "<Figure size 360x360 with 1 Axes>"
      ]
     },
     "metadata": {
      "needs_background": "light"
     },
     "output_type": "display_data"
    }
   ],
   "source": [
    "fig3 = plt.figure(figsize=(5,5))\n",
    "plt.plot(X_range,y_2_range_predict)\n",
    "plt.scatter(X_train,y_train)\n",
    "plt.scatter(X_test,y_test)\n",
    "\n",
    "plt.title('polynomial prediction result (2)')\n",
    "plt.xlabel('x_d')\n",
    "plt.ylabel('y_d')\n",
    "plt.show()"
   ]
  },
  {
   "cell_type": "code",
   "execution_count": 24,
   "metadata": {},
   "outputs": [
    {
     "data": {
      "image/png": "[encoded data removed]",
      "text/plain": [
       "<Figure size 360x360 with 1 Axes>"
      ]
     },
     "metadata": {
      "needs_background": "light"
     },
     "output_type": "display_data"
    }
   ],
   "source": [
    "fig4 = plt.figure(figsize=(5,5))\n",
    "plt.plot(X_range,y_5_range_predict)\n",
    "plt.scatter(X_train,y_train)\n",
    "plt.scatter(X_test,y_test)\n",
    "\n",
    "plt.title('polynomial prediction result (5)')\n",
    "plt.xlabel('temperature')\n",
    "plt.ylabel('rate')\n",
    "plt.show()"
   ]
  },
  {
   "cell_type": "code",
   "execution_count": null,
   "metadata": {},
   "outputs": [],
   "source": []
  },
  {
   "cell_type": "code",
   "execution_count": null,
   "metadata": {},
   "outputs": [],
   "source": []
  },
  {
   "cell_type": "code",
   "execution_count": null,
   "metadata": {},
   "outputs": [],
   "source": []
  },
  {
   "cell_type": "raw",
   "metadata": {},
   "source": [
    "酶活性预测实战summary：\n",
    "1、通过建立二阶多项式回归模型，对酶活性实现了一个较好的预测，无论针对训练或测试数据都得到一个高的r2分数；\n",
    "2、通过建立线性回归、五阶多项式回归模型，发现存在过拟合或欠拟合情况。过拟合情况下，对于训练数据r2分数高（预测准确），但对于预测数据r2分数低（预测不准确）;\n",
    "3、无论时通过r2分数，或是可视化模型结果，都可以发现二阶多项式回归模型效果最好\n",
    "4、核心算法参考链接：https://scikit-learn.org/stable/modules/generated/sklearn.linear_model.LinearRegression.html#sklearn.linear_model.LinearRegression"
   ]
  }
 ],
 "metadata": {
  "kernelspec": {
   "display_name": "Python 3",
   "language": "python",
   "name": "python3"
  },
  "language_info": {
   "codemirror_mode": {
    "name": "ipython",
    "version": 3
   },
   "file_extension": ".py",
   "mimetype": "text/x-python",
   "name": "python",
   "nbconvert_exporter": "python",
   "pygments_lexer": "ipython3",
   "version": "3.6.10"
  }
 },
 "nbformat": 4,
 "nbformat_minor": 2
}
