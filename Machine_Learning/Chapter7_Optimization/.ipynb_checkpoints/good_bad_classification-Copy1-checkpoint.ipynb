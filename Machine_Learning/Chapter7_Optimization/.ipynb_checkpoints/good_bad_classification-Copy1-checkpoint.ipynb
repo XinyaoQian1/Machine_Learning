{
 "cells": [
  {
   "cell_type": "code",
   "execution_count": 22,
   "metadata": {},
   "outputs": [
    {
     "data": {
      "text/html": [
       "<div>\n",
       "<style scoped>\n",
       "    .dataframe tbody tr th:only-of-type {\n",
       "        vertical-align: middle;\n",
       "    }\n",
       "\n",
       "    .dataframe tbody tr th {\n",
       "        vertical-align: top;\n",
       "    }\n",
       "\n",
       "    .dataframe thead th {\n",
       "        text-align: right;\n",
       "    }\n",
       "</style>\n",
       "<table border=\"1\" class=\"dataframe\">\n",
       "  <thead>\n",
       "    <tr style=\"text-align: right;\">\n",
       "      <th></th>\n",
       "      <th>x1</th>\n",
       "      <th>x2</th>\n",
       "      <th>y</th>\n",
       "    </tr>\n",
       "  </thead>\n",
       "  <tbody>\n",
       "    <tr>\n",
       "      <th>0</th>\n",
       "      <td>0.77</td>\n",
       "      <td>3.97</td>\n",
       "      <td>0</td>\n",
       "    </tr>\n",
       "    <tr>\n",
       "      <th>1</th>\n",
       "      <td>1.71</td>\n",
       "      <td>2.81</td>\n",
       "      <td>0</td>\n",
       "    </tr>\n",
       "    <tr>\n",
       "      <th>2</th>\n",
       "      <td>2.18</td>\n",
       "      <td>1.31</td>\n",
       "      <td>0</td>\n",
       "    </tr>\n",
       "    <tr>\n",
       "      <th>3</th>\n",
       "      <td>3.80</td>\n",
       "      <td>0.69</td>\n",
       "      <td>0</td>\n",
       "    </tr>\n",
       "    <tr>\n",
       "      <th>4</th>\n",
       "      <td>5.21</td>\n",
       "      <td>1.14</td>\n",
       "      <td>0</td>\n",
       "    </tr>\n",
       "  </tbody>\n",
       "</table>\n",
       "</div>"
      ],
      "text/plain": [
       "     x1    x2  y\n",
       "0  0.77  3.97  0\n",
       "1  1.71  2.81  0\n",
       "2  2.18  1.31  0\n",
       "3  3.80  0.69  0\n",
       "4  5.21  1.14  0"
      ]
     },
     "execution_count": 22,
     "metadata": {},
     "output_type": "execute_result"
    }
   ],
   "source": [
    "import pandas as pd\n",
    "import numpy as np\n",
    "data = pd.read_csv('data_class_raw.csv')\n",
    "data.head()"
   ]
  },
  {
   "cell_type": "code",
   "execution_count": 23,
   "metadata": {},
   "outputs": [],
   "source": [
    "X = data.drop(['y'],axis=1)\n",
    "y = data.loc[:,'y']"
   ]
  },
  {
   "cell_type": "code",
   "execution_count": 24,
   "metadata": {},
   "outputs": [],
   "source": [
    "font2 = {'family' : 'Times New Roman',\n",
    "'weight' : 'normal',\n",
    "'size'   : 20,\n",
    "}"
   ]
  },
  {
   "cell_type": "code",
   "execution_count": 25,
   "metadata": {},
   "outputs": [
    {
     "name": "stdout",
     "output_type": "stream",
     "text": [
      "0.77 9.49 5.048611111111111 0.69 9.5 5.367777777777778\n"
     ]
    }
   ],
   "source": [
    "x1_min = X.loc[:,'x1'].min()\n",
    "x1_max = X.loc[:,'x1'].max()\n",
    "x2_min = X.loc[:,'x2'].min()\n",
    "x2_max = X.loc[:,'x2'].max()\n",
    "x1_mean = X.loc[:,'x1'].mean()\n",
    "x2_mean = X.loc[:,'x2'].mean()\n",
    "\n",
    "print(x1_min,x1_max,x1_mean,x2_min,x2_max,x2_mean)"
   ]
  },
  {
   "cell_type": "code",
   "execution_count": 26,
   "metadata": {},
   "outputs": [
    {
     "data": {
      "image/png": "[encoded data removed]",
      "text/plain": [
       "<Figure size 864x360 with 2 Axes>"
      ]
     },
     "metadata": {},
     "output_type": "display_data"
    }
   ],
   "source": [
    "fig1 = plt.figure(figsize=(12,5))\n",
    "plt.subplot(121)\n",
    "plt.hist(X.loc[:,'x1'],10)\n",
    "plt.xlabel('$x_1$',font2)\n",
    "plt.title('$x_1$ range:0.77-9.49',font2)\n",
    "plt.subplot(122)\n",
    "plt.hist(X.loc[:,'x2'],10)\n",
    "plt.xlabel('$x_2$',font2)\n",
    "plt.title('$x_2$ range:0.69-9.5',font2)\n",
    "plt.show()"
   ]
  },
  {
   "cell_type": "code",
   "execution_count": 27,
   "metadata": {},
   "outputs": [
    {
     "data": {
      "image/png": "[encoded data removed]",
      "text/plain": [
       "<Figure size 360x360 with 1 Axes>"
      ]
     },
     "metadata": {},
     "output_type": "display_data"
    }
   ],
   "source": [
    "%matplotlib inline\n",
    "from matplotlib import pyplot as plt\n",
    "fig1 = plt.figure(figsize=(5,5))\n",
    "bad = plt.scatter(X.loc[:,'x1'][y==0],X.loc[:,'x2'][y==0])\n",
    "good = plt.scatter(X.loc[:,'x1'][y==1],X.loc[:,'x2'][y==1],marker='x')\n",
    "plt.legend((good,bad),('good','bad'))\n",
    "plt.xlabel('$x_1$',font2)\n",
    "plt.ylabel('$x_2$',font2)\n",
    "plt.title('raw data',font2)\n",
    "plt.show()"
   ]
  },
  {
   "cell_type": "code",
   "execution_count": 28,
   "metadata": {},
   "outputs": [
    {
     "data": {
      "text/plain": [
       "(19, 2)"
      ]
     },
     "execution_count": 28,
     "metadata": {},
     "output_type": "execute_result"
    }
   ],
   "source": [
    "X[y==0].shape"
   ]
  },
  {
   "cell_type": "code",
   "execution_count": 29,
   "metadata": {},
   "outputs": [
    {
     "data": {
      "image/png": "[encoded data removed]",
      "text/plain": [
       "<Figure size 360x360 with 1 Axes>"
      ]
     },
     "metadata": {},
     "output_type": "display_data"
    }
   ],
   "source": [
    "#anomaly detection\n",
    "from sklearn.covariance import EllipticEnvelope\n",
    "ad_model = EllipticEnvelope(contamination=0.02)\n",
    "ad_model.fit(X[y==0])\n",
    "y_predict = ad_model.predict(X[y==0])\n",
    "\n",
    "ad_model2 = EllipticEnvelope(contamination=0.02)\n",
    "ad_model2.fit(X[y==1])\n",
    "y_predict2 = ad_model2.predict(X[y==1])\n",
    "#visualize the result\n",
    "fig2 = plt.figure(figsize=(5,5))\n",
    "#anomaly_data=plt.scatter(X.loc[:,'x1'][y_predict==-1],X.loc[:,'x2'][y_predict==-1],marker='o',facecolor='none',edgecolor='red',s=150)\n",
    "\n",
    "bad = plt.scatter(X.loc[:,'x1'][y==0],X.loc[:,'x2'][y==0])\n",
    "anomaly_data1=plt.scatter(X.loc[:,'x1'][y==0][y_predict==-1],X.loc[:,'x2'][y==0][y_predict==-1],marker='o',facecolor='none',edgecolor='red',s=150)\n",
    "\n",
    "good = plt.scatter(X.loc[:,'x1'][y==1],X.loc[:,'x2'][y==1],marker='x')\n",
    "anomaly_data2=plt.scatter(X.loc[:,'x1'][y==1][y_predict2==-1],X.loc[:,'x2'][y==1][y_predict2==-1],marker='o',facecolor='none',edgecolor='red',s=150)\n",
    "\n",
    "plt.legend((good,bad),('good','bad'))\n",
    "plt.xlabel('x1')\n",
    "plt.ylabel('x2')\n",
    "plt.title('raw data')\n",
    "plt.show()"
   ]
  },
  {
   "cell_type": "code",
   "execution_count": 30,
   "metadata": {},
   "outputs": [
    {
     "data": {
      "text/html": [
       "<div>\n",
       "<style scoped>\n",
       "    .dataframe tbody tr th:only-of-type {\n",
       "        vertical-align: middle;\n",
       "    }\n",
       "\n",
       "    .dataframe tbody tr th {\n",
       "        vertical-align: top;\n",
       "    }\n",
       "\n",
       "    .dataframe thead th {\n",
       "        text-align: right;\n",
       "    }\n",
       "</style>\n",
       "<table border=\"1\" class=\"dataframe\">\n",
       "  <thead>\n",
       "    <tr style=\"text-align: right;\">\n",
       "      <th></th>\n",
       "      <th>x1</th>\n",
       "      <th>x2</th>\n",
       "    </tr>\n",
       "  </thead>\n",
       "  <tbody>\n",
       "    <tr>\n",
       "      <th>35</th>\n",
       "      <td>7.0</td>\n",
       "      <td>9.5</td>\n",
       "    </tr>\n",
       "  </tbody>\n",
       "</table>\n",
       "</div>"
      ],
      "text/plain": [
       "     x1   x2\n",
       "35  7.0  9.5"
      ]
     },
     "execution_count": 30,
     "metadata": {},
     "output_type": "execute_result"
    }
   ],
   "source": [
    "X[y==0][y_predict==-1]"
   ]
  },
  {
   "cell_type": "code",
   "execution_count": 31,
   "metadata": {},
   "outputs": [
    {
     "data": {
      "image/png": "[encoded data removed]",
      "text/plain": [
       "<Figure size 360x360 with 1 Axes>"
      ]
     },
     "metadata": {},
     "output_type": "display_data"
    }
   ],
   "source": [
    "data = pd.read_csv('data_class_processed.csv')\n",
    "X = data.drop(['y'],axis=1)\n",
    "y = data.loc[:,'y']\n",
    "fig3 = plt.figure(figsize=(5,5))\n",
    "bad = plt.scatter(X.loc[:,'x1'][y==0],X.loc[:,'x2'][y==0])\n",
    "good = plt.scatter(X.loc[:,'x1'][y==1],X.loc[:,'x2'][y==1],marker='x')\n",
    "plt.legend((good,bad),('good','bad'))\n",
    "plt.xlabel('x1')\n",
    "plt.ylabel('x2')\n",
    "plt.title('raw data')\n",
    "plt.show()"
   ]
  },
  {
   "cell_type": "code",
   "execution_count": 32,
   "metadata": {},
   "outputs": [
    {
     "name": "stdout",
     "output_type": "stream",
     "text": [
      "[0.5369408 0.4630592]\n"
     ]
    },
    {
     "data": {
      "image/png": "[encoded data removed]",
      "text/plain": [
       "<Figure size 360x360 with 1 Axes>"
      ]
     },
     "metadata": {},
     "output_type": "display_data"
    }
   ],
   "source": [
    "#pca\n",
    "from sklearn.preprocessing import StandardScaler\n",
    "from sklearn.decomposition import PCA\n",
    "X_norm = StandardScaler().fit_transform(X)\n",
    "pca = PCA(n_components=2)\n",
    "X_reduced = pca.fit_transform(X_norm)\n",
    "var_ratio = pca.explained_variance_ratio_\n",
    "print(var_ratio)\n",
    "fig4 = plt.figure(figsize=(5,5))\n",
    "plt.bar([1,2],var_ratio)\n",
    "plt.show()"
   ]
  },
  {
   "cell_type": "code",
   "execution_count": 33,
   "metadata": {},
   "outputs": [
    {
     "name": "stdout",
     "output_type": "stream",
     "text": [
      "(21, 2) (14, 2) (35, 2)\n"
     ]
    }
   ],
   "source": [
    "#train test split\n",
    "from sklearn.model_selection import train_test_split\n",
    "X_train,X_test,y_train,y_test = train_test_split(X,y,random_state=4,test_size=0.4)\n",
    "print(X_train.shape,X_test.shape,X.shape)"
   ]
  },
  {
   "cell_type": "code",
   "execution_count": 38,
   "metadata": {},
   "outputs": [
    {
     "data": {
      "image/png": "[encoded data removed]",
      "text/plain": [
       "<Figure size 360x360 with 1 Axes>"
      ]
     },
     "metadata": {},
     "output_type": "display_data"
    }
   ],
   "source": [
    "fig5 = plt.figure(figsize=(5,5))\n",
    "train = plt.scatter(X_train.loc[:,'x1'],X_train.loc[:,'x2'])\n",
    "test = plt.scatter(X_test.loc[:,'x1'],X_test.loc[:,'x2'])\n",
    "\n",
    "plt.legend((train,test),('train','test'))\n",
    "plt.xlabel('$x_1$',font2)\n",
    "plt.ylabel('$x_2$',font2)\n",
    "plt.title('raw data',font2)\n",
    "plt.show()"
   ]
  },
  {
   "cell_type": "code",
   "execution_count": 39,
   "metadata": {},
   "outputs": [
    {
     "name": "stdout",
     "output_type": "stream",
     "text": [
      "0.9047619047619048\n"
     ]
    }
   ],
   "source": [
    "#knn model\n",
    "from sklearn.neighbors import KNeighborsClassifier\n",
    "knn = KNeighborsClassifier(n_neighbors=10)\n",
    "knn.fit(X_train,y_train)\n",
    "y_train_predict = knn.predict(X_train)\n",
    "from sklearn.metrics import accuracy_score\n",
    "accuracy = accuracy_score(y_train,y_train_predict)\n",
    "print(accuracy)"
   ]
  },
  {
   "cell_type": "code",
   "execution_count": 40,
   "metadata": {},
   "outputs": [
    {
     "name": "stdout",
     "output_type": "stream",
     "text": [
      "0.6428571428571429\n"
     ]
    }
   ],
   "source": [
    "y_test_predict = knn.predict(X_test)\n",
    "acccuracy_test = accuracy_score(y_test,y_test_predict)\n",
    "print(acccuracy_test)"
   ]
  },
  {
   "cell_type": "code",
   "execution_count": 41,
   "metadata": {},
   "outputs": [
    {
     "data": {
      "image/png": "[encoded data removed]",
      "text/plain": [
       "<Figure size 360x360 with 1 Axes>"
      ]
     },
     "metadata": {},
     "output_type": "display_data"
    }
   ],
   "source": [
    "#visualize the result\n",
    "xx, yy = np.meshgrid(np.arange(0, 10, 0.05), np.arange(0, 10, 0.05))\n",
    "x_range = np.c_[xx.ravel(), yy.ravel()]\n",
    "y_range_predict = knn.predict(x_range)\n",
    "fig6 = plt.figure(figsize=(5,5))\n",
    "bad_knn = plt.scatter(x_range[:,0][y_range_predict==0],x_range[:,1][y_range_predict==0])\n",
    "good_knn = plt.scatter(x_range[:,0][y_range_predict==1],x_range[:,1][y_range_predict==1])\n",
    "bad = plt.scatter(X.loc[:,'x1'][y==0],X.loc[:,'x2'][y==0])\n",
    "good = plt.scatter(X.loc[:,'x1'][y==1],X.loc[:,'x2'][y==1],marker='x')\n",
    "plt.legend((good,bad,good_knn,bad_knn),('good','bad','good_knn','bad_knn'))\n",
    "plt.xlabel('$x_1$',font2)\n",
    "plt.ylabel('$x_2$',font2)\n",
    "plt.show()"
   ]
  },
  {
   "cell_type": "code",
   "execution_count": 42,
   "metadata": {},
   "outputs": [
    {
     "data": {
      "text/plain": [
       "array([[4, 2],\n",
       "       [3, 5]], dtype=int64)"
      ]
     },
     "execution_count": 42,
     "metadata": {},
     "output_type": "execute_result"
    }
   ],
   "source": [
    "from sklearn.metrics import confusion_matrix\n",
    "cm = confusion_matrix(y_test,y_test_predict)\n",
    "cm"
   ]
  },
  {
   "cell_type": "markdown",
   "metadata": {},
   "source": [
    "![confusion_matrix](images/06_confusion_matrix.png)"
   ]
  },
  {
   "cell_type": "code",
   "execution_count": 70,
   "metadata": {},
   "outputs": [
    {
     "name": "stdout",
     "output_type": "stream",
     "text": [
      "[0 1 0 1 1 0 1 1 0 1 0 1 1 0] [0 1 1 0 1 1 1 0 0 1 0 0 1 0]\n"
     ]
    }
   ],
   "source": [
    "print(np.array(y_test),y_test_predict)"
   ]
  },
  {
   "cell_type": "code",
   "execution_count": 72,
   "metadata": {},
   "outputs": [
    {
     "name": "stdout",
     "output_type": "stream",
     "text": [
      "5 4 2 3\n"
     ]
    }
   ],
   "source": [
    "TP = cm[1, 1]\n",
    "TN = cm[0, 0]\n",
    "FP = cm[0, 1]\n",
    "FN = cm[1, 0]\n",
    "print(TP,TN,FP,FN)"
   ]
  },
  {
   "cell_type": "markdown",
   "metadata": {},
   "source": [
    "**准确率:** 整体样本中，预测正确样本数的比例\n",
    "- Accuracy = (TP + TN)/(TP + TN + FP + FN)"
   ]
  },
  {
   "cell_type": "code",
   "execution_count": 74,
   "metadata": {},
   "outputs": [
    {
     "name": "stdout",
     "output_type": "stream",
     "text": [
      "0.6428571428571429\n"
     ]
    }
   ],
   "source": [
    "accuracy = (TP+TN)/(14)\n",
    "print(accuracy)"
   ]
  },
  {
   "cell_type": "markdown",
   "metadata": {},
   "source": [
    "**灵敏度（召回率）:** 正样本中，预测正确的比例\n",
    "- Sensitivity = Recall = TP/(TP + FN)"
   ]
  },
  {
   "cell_type": "code",
   "execution_count": 78,
   "metadata": {},
   "outputs": [
    {
     "name": "stdout",
     "output_type": "stream",
     "text": [
      "0.625\n",
      "0.625\n"
     ]
    }
   ],
   "source": [
    "from sklearn import metrics\n",
    "recall = TP/(TP+FN)\n",
    "print(recall)\n",
    "print(metrics.recall_score(y_test,y_test_predict))"
   ]
  },
  {
   "cell_type": "markdown",
   "metadata": {},
   "source": [
    "**特异度:** 负样本中，预测正确的比例\n",
    "- Specificity = TN/(TN + FP)"
   ]
  },
  {
   "cell_type": "code",
   "execution_count": 81,
   "metadata": {},
   "outputs": [
    {
     "name": "stdout",
     "output_type": "stream",
     "text": [
      "0.6666666666666666\n"
     ]
    }
   ],
   "source": [
    "specificity = TN/(TN+FP)\n",
    "print(specificity)"
   ]
  },
  {
   "cell_type": "markdown",
   "metadata": {},
   "source": [
    "**精确率:** 预测结果为正的样本中，预测正确的比例\n",
    "- Precision = TP/(TP + FP)"
   ]
  },
  {
   "cell_type": "code",
   "execution_count": 82,
   "metadata": {},
   "outputs": [
    {
     "name": "stdout",
     "output_type": "stream",
     "text": [
      "0.7142857142857143\n"
     ]
    }
   ],
   "source": [
    "precision = TP/(TP+FP)\n",
    "print(precision)"
   ]
  },
  {
   "cell_type": "markdown",
   "metadata": {},
   "source": [
    "**F1分数:** 综合Precision和Recall的一个判断指标\n",
    "- F1 Score = 2*Precision X Recall/(Precision + Recall)"
   ]
  },
  {
   "cell_type": "code",
   "execution_count": 84,
   "metadata": {},
   "outputs": [
    {
     "name": "stdout",
     "output_type": "stream",
     "text": [
      "0.6666666666666666\n"
     ]
    }
   ],
   "source": [
    "f1 = 2*precision*recall/(precision+recall)\n",
    "print(f1)"
   ]
  },
  {
   "cell_type": "code",
   "execution_count": null,
   "metadata": {},
   "outputs": [],
   "source": []
  },
  {
   "cell_type": "code",
   "execution_count": 60,
   "metadata": {},
   "outputs": [
    {
     "name": "stdout",
     "output_type": "stream",
     "text": [
      "[1.0, 1.0, 1.0, 1.0, 1.0, 0.9523809523809523, 0.9523809523809523, 0.9523809523809523, 0.9047619047619048, 0.9047619047619048, 0.9047619047619048, 0.9523809523809523, 0.9047619047619048, 0.9047619047619048, 0.9523809523809523, 0.9047619047619048, 0.9047619047619048, 0.5714285714285714, 0.5714285714285714, 0.5714285714285714] [0.5714285714285714, 0.5, 0.5, 0.5714285714285714, 0.7142857142857143, 0.5714285714285714, 0.5714285714285714, 0.5714285714285714, 0.6428571428571429, 0.6428571428571429, 0.6428571428571429, 0.5714285714285714, 0.6428571428571429, 0.6428571428571429, 0.5714285714285714, 0.5714285714285714, 0.5714285714285714, 0.42857142857142855, 0.42857142857142855, 0.42857142857142855]\n"
     ]
    }
   ],
   "source": [
    "#try different k and calcualte the accuracy for each\n",
    "n_neighbors = [i for i in range(1,21)]\n",
    "accuracy_train = []\n",
    "accuracy_test = []\n",
    "n_neighbors\n",
    "for i in n_neighbors:\n",
    "    knn = KNeighborsClassifier(n_neighbors=i)\n",
    "    knn.fit(X_train,y_train)\n",
    "    y_train_predict = knn.predict(X_train)\n",
    "    accuracy_train_i = accuracy_score(y_train,y_train_predict)\n",
    "    y_test_predict = knn.predict(X_test)\n",
    "    accuracy_test_i = accuracy_score(y_test,y_test_predict)\n",
    "    accuracy_train.append(accuracy_train_i)\n",
    "    accuracy_test.append(accuracy_test_i)\n",
    "print(accuracy_train,accuracy_test)"
   ]
  },
  {
   "cell_type": "code",
   "execution_count": 61,
   "metadata": {},
   "outputs": [
    {
     "data": {
      "image/png": "[encoded data removed]",
      "text/plain": [
       "<Figure size 720x360 with 2 Axes>"
      ]
     },
     "metadata": {},
     "output_type": "display_data"
    }
   ],
   "source": [
    "fig7 = plt.figure(figsize=(10,5))\n",
    "plt.subplot(121)\n",
    "plt.plot(n_neighbors,accuracy_train,marker='o')\n",
    "plt.title('training accuracy')\n",
    "plt.xlabel('n_neighbors')\n",
    "plt.ylabel('accuracy')\n",
    "plt.subplot(122)\n",
    "plt.plot(n_neighbors,accuracy_test,marker='o')\n",
    "plt.title('testing accuracy')\n",
    "plt.xlabel('n_neighbors')\n",
    "plt.ylabel('accuracy')\n",
    "\n",
    "plt.show()"
   ]
  },
  {
   "cell_type": "code",
   "execution_count": null,
   "metadata": {},
   "outputs": [],
   "source": []
  },
  {
   "cell_type": "code",
   "execution_count": null,
   "metadata": {},
   "outputs": [],
   "source": []
  }
 ],
 "metadata": {
  "kernelspec": {
   "display_name": "Python 3",
   "language": "python",
   "name": "python3"
  },
  "language_info": {
   "codemirror_mode": {
    "name": "ipython",
    "version": 3
   },
   "file_extension": ".py",
   "mimetype": "text/x-python",
   "name": "python",
   "nbconvert_exporter": "python",
   "pygments_lexer": "ipython3",
   "version": "3.6.5"
  }
 },
 "nbformat": 4,
 "nbformat_minor": 2
}
