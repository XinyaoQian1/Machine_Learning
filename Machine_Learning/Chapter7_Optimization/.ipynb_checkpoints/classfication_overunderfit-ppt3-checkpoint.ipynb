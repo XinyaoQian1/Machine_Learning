{
 "cells": [
  {
   "cell_type": "code",
   "execution_count": 1,
   "metadata": {},
   "outputs": [
    {
     "data": {
      "text/html": [
       "<div>\n",
       "<style scoped>\n",
       "    .dataframe tbody tr th:only-of-type {\n",
       "        vertical-align: middle;\n",
       "    }\n",
       "\n",
       "    .dataframe tbody tr th {\n",
       "        vertical-align: top;\n",
       "    }\n",
       "\n",
       "    .dataframe thead th {\n",
       "        text-align: right;\n",
       "    }\n",
       "</style>\n",
       "<table border=\"1\" class=\"dataframe\">\n",
       "  <thead>\n",
       "    <tr style=\"text-align: right;\">\n",
       "      <th></th>\n",
       "      <th>x1</th>\n",
       "      <th>x2</th>\n",
       "      <th>y</th>\n",
       "    </tr>\n",
       "  </thead>\n",
       "  <tbody>\n",
       "    <tr>\n",
       "      <th>0</th>\n",
       "      <td>0.77</td>\n",
       "      <td>3.97</td>\n",
       "      <td>0</td>\n",
       "    </tr>\n",
       "    <tr>\n",
       "      <th>1</th>\n",
       "      <td>1.71</td>\n",
       "      <td>2.81</td>\n",
       "      <td>0</td>\n",
       "    </tr>\n",
       "    <tr>\n",
       "      <th>2</th>\n",
       "      <td>2.18</td>\n",
       "      <td>1.31</td>\n",
       "      <td>0</td>\n",
       "    </tr>\n",
       "    <tr>\n",
       "      <th>3</th>\n",
       "      <td>3.80</td>\n",
       "      <td>0.69</td>\n",
       "      <td>0</td>\n",
       "    </tr>\n",
       "    <tr>\n",
       "      <th>4</th>\n",
       "      <td>5.21</td>\n",
       "      <td>1.14</td>\n",
       "      <td>0</td>\n",
       "    </tr>\n",
       "  </tbody>\n",
       "</table>\n",
       "</div>"
      ],
      "text/plain": [
       "     x1    x2  y\n",
       "0  0.77  3.97  0\n",
       "1  1.71  2.81  0\n",
       "2  2.18  1.31  0\n",
       "3  3.80  0.69  0\n",
       "4  5.21  1.14  0"
      ]
     },
     "execution_count": 1,
     "metadata": {},
     "output_type": "execute_result"
    }
   ],
   "source": [
    "import pandas as pd\n",
    "import numpy as np\n",
    "data = pd.read_csv('data_class.csv')\n",
    "data.head()"
   ]
  },
  {
   "cell_type": "code",
   "execution_count": 2,
   "metadata": {},
   "outputs": [
    {
     "data": {
      "text/plain": [
       "(35,)"
      ]
     },
     "execution_count": 2,
     "metadata": {},
     "output_type": "execute_result"
    }
   ],
   "source": [
    "X = data.drop(['y'],axis=1)\n",
    "y = data.loc[:,'y']\n",
    "y.shape"
   ]
  },
  {
   "cell_type": "code",
   "execution_count": 9,
   "metadata": {},
   "outputs": [],
   "source": [
    "font2 = {'family' : 'Times New Roman',\n",
    "'weight' : 'normal',\n",
    "'size'   : 20,\n",
    "}"
   ]
  },
  {
   "cell_type": "code",
   "execution_count": 4,
   "metadata": {},
   "outputs": [
    {
     "data": {
      "image/png": "[encoded data removed]",
      "text/plain": [
       "<Figure size 360x360 with 1 Axes>"
      ]
     },
     "metadata": {},
     "output_type": "display_data"
    }
   ],
   "source": [
    "%matplotlib inline\n",
    "from matplotlib import pyplot as plt\n",
    "fig1 = plt.figure(figsize=(5,5))\n",
    "bad=plt.scatter(X.loc[:,'x1'][y==0],X.loc[:,'x2'][y==0],marker='x',s=150)\n",
    "good=plt.scatter(X.loc[:,'x1'][y==1],X.loc[:,'x2'][y==1],marker='o',facecolor='none',edgecolor='red',s=150)\n",
    "plt.legend((good,bad),('good','bad'))\n",
    "plt.title('measured data',font2)\n",
    "plt.xlabel('$x_1$',font2)\n",
    "plt.ylabel('$x_2$',font2)\n",
    "plt.xlim(0,10)\n",
    "plt.ylim(0,10)\n",
    "plt.show()"
   ]
  },
  {
   "cell_type": "code",
   "execution_count": 17,
   "metadata": {},
   "outputs": [
    {
     "name": "stdout",
     "output_type": "stream",
     "text": [
      "[0.5369408 0.4630592]\n"
     ]
    },
    {
     "data": {
      "image/png": "[encoded data removed]",
      "text/plain": [
       "<Figure size 504x360 with 1 Axes>"
      ]
     },
     "metadata": {},
     "output_type": "display_data"
    }
   ],
   "source": [
    "#pca process to check the importance of the components\n",
    "from sklearn.preprocessing import StandardScaler\n",
    "from sklearn.decomposition import PCA\n",
    "X_norm = StandardScaler().fit_transform(X)\n",
    "X_norm.shape\n",
    "X_norm[:,0].mean()\n",
    "#find the principle features based on the variance of each vector\n",
    "pca = PCA(n_components=2)\n",
    "X_reduced = pca.fit_transform(X_norm)\n",
    "#降维后的各主成分的方差值占总方差值的比例，这个比例越大，则越是重要的主成分\n",
    "var_ratio = pca.explained_variance_ratio_\n",
    "print(var_ratio)\n",
    "fig2 = plt.figure(figsize=(7,5))\n",
    "plt.bar([1,2],var_ratio,width=0.4)\n",
    "plt.title('variance ratio of each PC',font2)\n",
    "plt.xticks([1,2],['PC1','PC2'])\n",
    "plt.ylabel('variance ratio',font2)\n",
    "plt.show()"
   ]
  },
  {
   "cell_type": "code",
   "execution_count": null,
   "metadata": {},
   "outputs": [],
   "source": [
    "X = np.array(X)"
   ]
  },
  {
   "cell_type": "code",
   "execution_count": null,
   "metadata": {},
   "outputs": [],
   "source": [
    "# 咱们先顶一个一个函数来画决策边界\n",
    "def plot_decision_boundary(pred_func):\n",
    " \n",
    "    # 设定最大最小值，附加一点点边缘填充\n",
    "    x_min, x_max = X[:, 0].min() - .5, X[:, 0].max() + .5\n",
    "    y_min, y_max = X[:, 1].min() - .5, X[:, 1].max() + .5\n",
    "    h = 0.01\n",
    " \n",
    "    xx, yy = np.meshgrid(np.arange(x_min, x_max, h), np.arange(y_min, y_max, h))\n",
    " \n",
    "    # 用预测函数预测一下\n",
    "    Z = pred_func(np.c_[xx.ravel(), yy.ravel()])\n",
    "    Z = Z.reshape(xx.shape)\n",
    " \n",
    "    # 然后画出图\n",
    "    plt.contourf(xx, yy, Z)\n",
    "    #plt.scatter(X[:, 0], X[:, 1], c=y, cmap=plt.cm.Spectral)"
   ]
  },
  {
   "cell_type": "code",
   "execution_count": null,
   "metadata": {},
   "outputs": [],
   "source": [
    "from sklearn.linear_model import LogisticRegression\n",
    "#咱们先来瞄一眼逻辑斯特回归对于它的分类效果\n",
    "clf = LogisticRegression()\n",
    "clf.fit(X, y)\n",
    " \n",
    "# 画一下决策边界\n",
    "plot_decision_boundary(lambda x: clf.predict(x))\n",
    "plt.scatter(X[:,0][y==0],X[:,1][y==0],marker='x',s=150)\n",
    "plt.scatter(X[:,0][y==1],X[:,1][y==1],marker='o',facecolor='none',edgecolor='red',s=150)\n",
    "plt.title('good fit',font2)\n",
    "plt.xlabel('$x_1$',font2)\n",
    "plt.ylabel('$x_2$',font2)\n",
    "plt.xlim(0,10)\n",
    "plt.ylim(0,10)\n",
    "plt.show()"
   ]
  },
  {
   "cell_type": "code",
   "execution_count": null,
   "metadata": {},
   "outputs": [],
   "source": [
    "x_min, x_max = X[:, 0].min() - .5, X[:, 0].max() + .5\n",
    "y_min, y_max = X[:, 1].min() - .5, X[:, 1].max() + .5\n",
    "h = 0.05\n",
    "\n",
    "xx, yy = np.meshgrid(np.arange(x_min, x_max, h), np.arange(y_min, y_max, h))\n",
    "\n",
    "x_range = np.c_[xx.ravel(), yy.ravel()]\n",
    "y_new_predict = clf.predict(x_range)\n",
    "\n",
    "y_predict = clf.predict(X)\n",
    "print(accuracy_score(y,y_predict))\n",
    "\n",
    "fig = plt.figure(figsize=(5,5))\n",
    "plt.scatter(x_range[:,0][y_new_predict==0],x_range[:,1][y_new_predict==0])\n",
    "plt.scatter(x_range[:,0][y_new_predict==1],x_range[:,1][y_new_predict==1])\n",
    "bad=plt.scatter(X[:,0][y==0],X[:,1][y==0],marker='x',s=150)\n",
    "good=plt.scatter(X[:,0][y==1],X[:,1][y==1],marker='o',facecolor='none',edgecolor='red',s=150)\n",
    "plt.legend((good,bad),('good','bad'))\n",
    "\n",
    "plt.title('under fit(accuracy=71.4%)',font2)\n",
    "plt.xlabel('$x_1$',font2)\n",
    "plt.ylabel('$x_2$',font2)\n",
    "plt.xlim(0,10)\n",
    "plt.ylim(0,10)\n",
    "\n",
    "plt.show()\n",
    "print(accuracy_score(y,y_predict))"
   ]
  },
  {
   "cell_type": "code",
   "execution_count": null,
   "metadata": {},
   "outputs": [],
   "source": [
    "from sklearn.preprocessing import PolynomialFeatures\n",
    "from sklearn.metrics import accuracy_score"
   ]
  },
  {
   "cell_type": "code",
   "execution_count": null,
   "metadata": {},
   "outputs": [],
   "source": [
    "poly = PolynomialFeatures(degree=2)\n",
    "X_2 = poly.fit_transform(X)\n",
    "clf = LogisticRegression()\n",
    "clf.fit(X_2, y)\n",
    "\n",
    "x_min, x_max = X[:, 0].min() - .5, X[:, 0].max() + .5\n",
    "y_min, y_max = X[:, 1].min() - .5, X[:, 1].max() + .5\n",
    "h = 0.05\n",
    "\n",
    "xx, yy = np.meshgrid(np.arange(x_min, x_max, h), np.arange(y_min, y_max, h))\n",
    "\n",
    "x_range = np.c_[xx.ravel(), yy.ravel()]\n",
    "x_range_new = poly.fit_transform(x_range)\n",
    "x_range_new.shape\n",
    "y_new_predict = clf.predict(x_range_new)\n",
    "\n",
    "y_predict = clf.predict(X_2)\n",
    "print(i,':',accuracy_score(y,y_predict))\n",
    "\n",
    "fig = plt.figure(figsize=(5,5))\n",
    "plt.scatter(x_range[:,0][y_new_predict==0],x_range[:,1][y_new_predict==0])\n",
    "plt.scatter(x_range[:,0][y_new_predict==1],x_range[:,1][y_new_predict==1])\n",
    "bad=plt.scatter(X[:,0][y==0],X[:,1][y==0],marker='x',s=150)\n",
    "good=plt.scatter(X[:,0][y==1],X[:,1][y==1],marker='o',facecolor='none',edgecolor='red',s=150)\n",
    "plt.legend((good,bad),('good','bad'))\n",
    "plt.title('good fit(accuracy=88.6%)',font2)\n",
    "plt.xlabel('$x_1$',font2)\n",
    "plt.ylabel('$x_2$',font2)\n",
    "plt.xlim(0,10)\n",
    "plt.ylim(0,10)\n",
    "\n",
    "plt.show()\n",
    "print(accuracy_score(y,y_predict))"
   ]
  },
  {
   "cell_type": "code",
   "execution_count": null,
   "metadata": {},
   "outputs": [],
   "source": [
    "poly = PolynomialFeatures(degree=5)\n",
    "X_2 = poly.fit_transform(X)\n",
    "clf = LogisticRegression(C=0.000002)\n",
    "clf.fit(X_2, y)\n",
    "\n",
    "x_min, x_max = X[:, 0].min() - .5, X[:, 0].max() + .5\n",
    "y_min, y_max = X[:, 1].min() - .5, X[:, 1].max() + .5\n",
    "h = 0.05\n",
    "\n",
    "xx, yy = np.meshgrid(np.arange(x_min, x_max, h), np.arange(y_min, y_max, h))\n",
    "\n",
    "x_range = np.c_[xx.ravel(), yy.ravel()]\n",
    "x_range_new = poly.fit_transform(x_range)\n",
    "x_range_new.shape\n",
    "y_new_predict = clf.predict(x_range_new)\n",
    "\n",
    "y_predict = clf.predict(X_2)\n",
    "print(i,':',accuracy_score(y,y_predict))\n",
    "\n",
    "fig = plt.figure(figsize=(5,5))\n",
    "plt.scatter(x_range[:,0][y_new_predict==0],x_range[:,1][y_new_predict==0])\n",
    "plt.scatter(x_range[:,0][y_new_predict==1],x_range[:,1][y_new_predict==1])\n",
    "bad=plt.scatter(X[:,0][y==0],X[:,1][y==0],marker='x',s=150)\n",
    "good=plt.scatter(X[:,0][y==1],X[:,1][y==1],marker='o',facecolor='none',edgecolor='red',s=150)\n",
    "plt.legend((good,bad),('good','bad'))\n",
    "plt.title('regularized fit(accuracy=85.7%)',font2)\n",
    "plt.xlabel('$x_1$',font2)\n",
    "plt.ylabel('$x_2$',font2)\n",
    "plt.xlim(0,10)\n",
    "plt.ylim(0,10)\n",
    "\n",
    "plt.show()\n",
    "print(accuracy_score(y,y_predict))"
   ]
  },
  {
   "cell_type": "code",
   "execution_count": null,
   "metadata": {},
   "outputs": [],
   "source": [
    "X_2.shape"
   ]
  },
  {
   "cell_type": "code",
   "execution_count": null,
   "metadata": {},
   "outputs": [],
   "source": [
    "#pca\n",
    "from sklearn.decomposition import PCA\n",
    "from sklearn.preprocessing import StandardScaler\n",
    "X_norm = StandardScaler().fit_transform(X_2)\n",
    "X_norm.shape\n",
    "X_norm[:,0].mean()\n",
    "#find the principle features based on the variance of each vector\n",
    "pca = PCA(n_components=5)\n",
    "X_reduced = pca.fit_transform(X_norm)\n",
    "#降维后的各主成分的方差值占总方差值的比例，这个比例越大，则越是重要的主成分\n",
    "var_ratio = pca.explained_variance_ratio_\n",
    "print(var_ratio)"
   ]
  },
  {
   "cell_type": "code",
   "execution_count": null,
   "metadata": {},
   "outputs": [],
   "source": [
    "X_reduced[21,:]"
   ]
  },
  {
   "cell_type": "code",
   "execution_count": null,
   "metadata": {},
   "outputs": [],
   "source": [
    "clf = LogisticRegression()\n",
    "clf.fit(X_reduced, y)\n",
    "\n",
    "x_min, x_max = X[:, 0].min() - .5, X[:, 0].max() + .5\n",
    "y_min, y_max = X[:, 1].min() - .5, X[:, 1].max() + .5\n",
    "h = 0.05\n",
    "\n",
    "xx, yy = np.meshgrid(np.arange(x_min, x_max, h), np.arange(y_min, y_max, h))\n",
    "\n",
    "x_range = np.c_[xx.ravel(), yy.ravel()]\n",
    "x_range_new = poly.fit_transform(x_range)\n",
    "x_range_new.shape\n",
    "#pca\n",
    "x_range_new = StandardScaler().fit_transform(x_range_new)\n",
    "#x_range_new.std()\n",
    "x_range_new.shape\n"
   ]
  },
  {
   "cell_type": "code",
   "execution_count": null,
   "metadata": {},
   "outputs": [],
   "source": [
    "\n",
    "x_range_new = pca.transform(x_range_new)\n",
    "x_range_new.shape\n",
    "y_new_predict = clf.predict(x_range_new)\n",
    "\n",
    "y_predict = clf.predict(X_reduced)\n",
    "print(i,':',accuracy_score(y,y_predict))\n",
    "\n",
    "fig = plt.figure(figsize=(5,5))\n",
    "plt.scatter(x_range[:,0][y_new_predict==0],x_range[:,1][y_new_predict==0])\n",
    "plt.scatter(x_range[:,0][y_new_predict==1],x_range[:,1][y_new_predict==1])\n",
    "bad=plt.scatter(X[:,0][y==0],X[:,1][y==0],marker='x',s=150)\n",
    "good=plt.scatter(X[:,0][y==1],X[:,1][y==1],marker='o',facecolor='none',edgecolor='red',s=150)\n",
    "plt.legend((good,bad),('good','bad'))\n",
    "plt.title('PCA fit(accuracy=86.1%)',font2)\n",
    "plt.xlabel('$x_1$',font2)\n",
    "plt.ylabel('$x_2$',font2)\n",
    "plt.xlim(0,10)\n",
    "plt.ylim(0,10)\n",
    "\n",
    "plt.show()\n",
    "print(accuracy_score(y,y_predict))"
   ]
  },
  {
   "cell_type": "code",
   "execution_count": null,
   "metadata": {},
   "outputs": [],
   "source": [
    "fig = plt.figure(figsize=(5,5))\n",
    "plt.scatter(x_range[:,0][y_new_predict==0],x_range[:,1][y_new_predict==0])\n",
    "plt.scatter(x_range[:,0][y_new_predict==1],x_range[:,1][y_new_predict==1])\n",
    "bad=plt.scatter(X[:,0][y_predict==0],X[:,1][y_predict==0],marker='x',s=150)\n",
    "good=plt.scatter(X[:,0][y_predict==1],X[:,1][y_predict==1],marker='o',facecolor='none',edgecolor='red',s=150)\n",
    "plt.legend((good,bad),('good','bad'))\n",
    "plt.title('regularized fit(accuracy=85.7%)',font2)\n",
    "plt.xlabel('$x_1$',font2)\n",
    "plt.ylabel('$x_2$',font2)\n",
    "plt.xlim(0,10)\n",
    "plt.ylim(0,10)\n",
    "\n",
    "plt.show()"
   ]
  },
  {
   "cell_type": "code",
   "execution_count": null,
   "metadata": {},
   "outputs": [],
   "source": [
    "clf.predict([[-1.03491505, -1.58765188, -0.16932832,  0.35292376, -0.48712403]])"
   ]
  },
  {
   "cell_type": "code",
   "execution_count": null,
   "metadata": {},
   "outputs": [],
   "source": [
    "print(np.array(y))"
   ]
  },
  {
   "cell_type": "code",
   "execution_count": null,
   "metadata": {},
   "outputs": [],
   "source": [
    "print(y_predict)"
   ]
  },
  {
   "cell_type": "code",
   "execution_count": null,
   "metadata": {},
   "outputs": [],
   "source": [
    "#Visualize the var_ratio\n",
    "%matplotlib inline\n",
    "from matplotlib import pyplot as plt\n",
    "fig = plt.figure(figsize=(20,8))\n",
    "plt.bar(ii,var_ratio)\n",
    "plt.title('variance ratio of each component',font2)\n",
    "#plt.xticks([1,2,3,4],['PC1','PC2','PC3','PC4'])\n",
    "plt.ylabel('var_ratio',font2)\n",
    "plt.show()"
   ]
  },
  {
   "cell_type": "code",
   "execution_count": null,
   "metadata": {},
   "outputs": [],
   "source": []
  },
  {
   "cell_type": "code",
   "execution_count": null,
   "metadata": {},
   "outputs": [],
   "source": [
    "a = [i for i in range(1,10)]\n",
    "a"
   ]
  },
  {
   "cell_type": "code",
   "execution_count": null,
   "metadata": {},
   "outputs": [],
   "source": [
    "from sklearn.preprocessing import PolynomialFeatures\n",
    "from sklearn.metrics import accuracy_score\n",
    "for i in range(1,10):\n",
    "    poly = PolynomialFeatures(degree=i)\n",
    "    X_new = poly.fit_transform(X)\n",
    "    clf = LogisticRegression()\n",
    "    clf.fit(X_new, y)\n",
    "\n",
    "    x_min, x_max = X[:, 0].min() - .5, X[:, 0].max() + .5\n",
    "    y_min, y_max = X[:, 1].min() - .5, X[:, 1].max() + .5\n",
    "    h = 0.05\n",
    "\n",
    "    xx, yy = np.meshgrid(np.arange(x_min, x_max, h), np.arange(y_min, y_max, h))\n",
    "\n",
    "    yy.shape\n",
    "\n",
    "    x_range = np.c_[xx.ravel(), yy.ravel()]\n",
    "    x_range_new = poly.fit_transform(x_range)\n",
    "    x_range_new.shape\n",
    "    y_new_predict = clf.predict(x_range_new)\n",
    "    pd.value_counts(y_new_predict)\n",
    "\n",
    "    #plt.scatter(x_range[:,0][y_new_predict==0],x_range[:,1][y_new_predict==0])\n",
    "    #plt.scatter(x_range[:,0][y_new_predict==1],x_range[:,1][y_new_predict==1])\n",
    "    #plt.scatter(X[:,0][y==0],X[:,1][y==0],marker='x',s=150)\n",
    "    #plt.scatter(X[:,0][y==1],X[:,1][y==1],marker='o',facecolor='none',edgecolor='red',s=150)\n",
    "    y_predict = clf.predict(X_new)\n",
    "    print(i,':',accuracy_score(y,y_predict))"
   ]
  },
  {
   "cell_type": "code",
   "execution_count": null,
   "metadata": {},
   "outputs": [],
   "source": [
    "from sklearn.preprocessing import PolynomialFeatures\n",
    "from sklearn.metrics import accuracy_score\n",
    "\n",
    "poly = PolynomialFeatures(degree=5)\n",
    "X_new = poly.fit_transform(X)\n",
    "clf = LogisticRegression()\n",
    "clf.fit(X_new, y)\n",
    "y_predict = clf.predict(X_new)\n",
    "\n",
    "x_min, x_max = X[:, 0].min() - .5, X[:, 0].max() + .5\n",
    "y_min, y_max = X[:, 1].min() - .5, X[:, 1].max() + .5\n",
    "h = 0.02\n",
    " \n",
    "xx, yy = np.meshgrid(np.arange(x_min, x_max, h), np.arange(y_min, y_max, h))\n",
    " \n",
    "yy.shape\n",
    "\n",
    "x_range = np.c_[xx.ravel(), yy.ravel()]\n",
    "x_range_new = poly.fit_transform(x_range)\n",
    "x_range_new.shape\n",
    "y_new_predict = clf.predict(x_range_new)\n",
    "pd.value_counts(y_new_predict)\n",
    "fig = plt.figure(figsize=(20,10))\n",
    "plt.subplot(121)\n",
    "plt.scatter(x_range[:,0][y_new_predict==0],x_range[:,1][y_new_predict==0])\n",
    "plt.scatter(x_range[:,0][y_new_predict==1],x_range[:,1][y_new_predict==1])\n",
    "plt.scatter(X[:,0][y==0],X[:,1][y==0],marker='x',s=10)\n",
    "plt.scatter(X[:,0][y==1],X[:,1][y==1],marker='o',facecolor='none',edgecolor='red',s=10)\n",
    "plt.subplot(122)\n",
    "plt.scatter(x_range[:,0][y_new_predict==0],x_range[:,1][y_new_predict==0])\n",
    "plt.scatter(x_range[:,0][y_new_predict==1],x_range[:,1][y_new_predict==1])\n",
    "plt.scatter(X[:,0][y_predict==0],X[:,1][y_predict==0],marker='x',s=10)\n",
    "plt.scatter(X[:,0][y_predict==1],X[:,1][y_predict==1],marker='o',facecolor='none',edgecolor='red',s=10)\n",
    "plt.show()\n",
    "print(accuracy_score(y,y_predict))"
   ]
  },
  {
   "cell_type": "code",
   "execution_count": null,
   "metadata": {},
   "outputs": [],
   "source": [
    "print(y,y_predict)"
   ]
  },
  {
   "cell_type": "code",
   "execution_count": null,
   "metadata": {},
   "outputs": [],
   "source": []
  },
  {
   "cell_type": "code",
   "execution_count": null,
   "metadata": {},
   "outputs": [],
   "source": []
  },
  {
   "cell_type": "code",
   "execution_count": null,
   "metadata": {},
   "outputs": [],
   "source": []
  }
 ],
 "metadata": {
  "kernelspec": {
   "display_name": "Python 3",
   "language": "python",
   "name": "python3"
  },
  "language_info": {
   "codemirror_mode": {
    "name": "ipython",
    "version": 3
   },
   "file_extension": ".py",
   "mimetype": "text/x-python",
   "name": "python",
   "nbconvert_exporter": "python",
   "pygments_lexer": "ipython3",
   "version": "3.6.5"
  }
 },
 "nbformat": 4,
 "nbformat_minor": 2
}
