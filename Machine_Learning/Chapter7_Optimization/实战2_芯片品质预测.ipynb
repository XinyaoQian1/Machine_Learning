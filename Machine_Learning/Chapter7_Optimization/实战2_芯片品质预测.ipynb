{
 "cells": [
  {
   "cell_type": "code",
   "execution_count": 2,
   "metadata": {
    "collapsed": true
   },
   "outputs": [
    {
     "name": "stderr",
     "output_type": "stream",
     "text": [
      "UsageError: Line magic function `%` not found.\n"
     ]
    }
   ],
   "source": [
    "% md\n",
    "\n",
    "# 综合提升之芯片品质预测"
   ]
  },
  {
   "cell_type": "raw",
   "source": [
    "好坏质检分类实战task：\n",
    "基于task2_data数据，综合异常数据检测、PCA降维、数据分离、KNN等技术完成芯片品质预测。\n",
    "\n",
    "1、基于高斯分布概率密度函数，对两个维度数据进行分析、计算概率密度函数，寻找异常点并剔除\n",
    "2、统计分析各维度数据分布\n",
    "3、对数据进行主成分分析，计算各维度方差比例\n",
    "4、数据分离，数据分离参数：random_state=1,test_size=0.4\n",
    "5、建立KNN模型（K=3）完成分类，可视化分类边界\n",
    "6、计算测试数据集对应的混淆矩阵，准确率、召回率、特异度、精确率、F1分数\n",
    "7、尝试不同的K值（1-20）,计算其在训练数据集、测试数据集上的准确率并作图\n",
    "任务拓展：尝试其他模型完成预测：决策树、逻辑回归、朴素贝叶斯"
   ],
   "metadata": {
    "collapsed": false
   }
  },
  {
   "cell_type": "code",
   "execution_count": 3,
   "outputs": [
    {
     "data": {
      "text/plain": "     x1    x2  y\n0  9.23  3.97  0\n1  8.29  2.81  0\n2  7.82  1.31  0\n3  6.20  0.69  0\n4  4.79  1.14  0",
      "text/html": "<div>\n<style scoped>\n    .dataframe tbody tr th:only-of-type {\n        vertical-align: middle;\n    }\n\n    .dataframe tbody tr th {\n        vertical-align: top;\n    }\n\n    .dataframe thead th {\n        text-align: right;\n    }\n</style>\n<table border=\"1\" class=\"dataframe\">\n  <thead>\n    <tr style=\"text-align: right;\">\n      <th></th>\n      <th>x1</th>\n      <th>x2</th>\n      <th>y</th>\n    </tr>\n  </thead>\n  <tbody>\n    <tr>\n      <th>0</th>\n      <td>9.23</td>\n      <td>3.97</td>\n      <td>0</td>\n    </tr>\n    <tr>\n      <th>1</th>\n      <td>8.29</td>\n      <td>2.81</td>\n      <td>0</td>\n    </tr>\n    <tr>\n      <th>2</th>\n      <td>7.82</td>\n      <td>1.31</td>\n      <td>0</td>\n    </tr>\n    <tr>\n      <th>3</th>\n      <td>6.20</td>\n      <td>0.69</td>\n      <td>0</td>\n    </tr>\n    <tr>\n      <th>4</th>\n      <td>4.79</td>\n      <td>1.14</td>\n      <td>0</td>\n    </tr>\n  </tbody>\n</table>\n</div>"
     },
     "execution_count": 3,
     "metadata": {},
     "output_type": "execute_result"
    }
   ],
   "source": [
    "#import data\n",
    "import pandas as pd\n",
    "import numpy as np\n",
    "data = pd.read_csv('task2_data.csv')\n",
    "data.head()"
   ],
   "metadata": {
    "collapsed": false,
    "pycharm": {
     "name": "#%%\n"
    }
   }
  },
  {
   "cell_type": "code",
   "execution_count": 4,
   "outputs": [],
   "source": [
    "#X y赋值\n",
    "X = data.drop(['y'],axis=1)\n",
    "y = data.loc[:,'y']\n",
    "X.head()\n",
    "y.head()\n",
    "#数据格式预处理\n",
    "\n",
    "x1 = X.loc[:,'x1']\n",
    "x2 = X.loc[:,'x2']"
   ],
   "metadata": {
    "collapsed": false,
    "pycharm": {
     "name": "#%%\n"
    }
   }
  },
  {
   "cell_type": "code",
   "execution_count": 5,
   "outputs": [
    {
     "data": {
      "text/plain": "<Figure size 432x288 with 1 Axes>",
      "image/png": "[encoded data removed]"
     },
     "metadata": {
      "needs_background": "light"
     },
     "output_type": "display_data"
    }
   ],
   "source": [
    "\n",
    "#数据可视化\n",
    "from matplotlib import pyplot as plt\n",
    "fig1 = plt.figure()\n",
    "bad = plt.scatter(x1[y==0],x2[y==0],marker='x',s=100,label='bad')\n",
    "good = plt.scatter(x1[y==1],x2[y==1],marker='o',facecolor='none',\n",
    "                   edgecolor='red',s=100,label='good')\n",
    "plt.title('chip data',fontsize=20)\n",
    "plt.xlabel('X 1',fontsize=20)\n",
    "plt.ylabel('X 2',fontsize=20)\n",
    "plt.legend()\n",
    "plt.show()\n"
   ],
   "metadata": {
    "collapsed": false,
    "pycharm": {
     "name": "#%%\n"
    }
   }
  },
  {
   "cell_type": "code",
   "execution_count": 6,
   "outputs": [
    {
     "name": "stdout",
     "output_type": "stream",
     "text": [
      "5.872105263157895 2.5681977661546767 4.4126315789473685 2.9169234974641487\n"
     ]
    }
   ],
   "source": [
    "import math\n",
    "#筛选y为0的数据\n",
    "x10 = x1[y==0]\n",
    "x20 = x2[y==0]\n",
    "#计算mean，std\n",
    "u1 = x10.mean()\n",
    "u2 = x20.mean()\n",
    "std1 = x10.std()\n",
    "std2 = x20.std()\n",
    "print(u1,std1,u2,std2)\n",
    "\n"
   ],
   "metadata": {
    "collapsed": false,
    "pycharm": {
     "name": "#%%\n"
    }
   }
  },
  {
   "cell_type": "code",
   "execution_count": null,
   "outputs": [],
   "source": [],
   "metadata": {
    "collapsed": false,
    "pycharm": {
     "name": "#%%\n"
    }
   }
  },
  {
   "cell_type": "code",
   "execution_count": 7,
   "outputs": [
    {
     "name": "stdout",
     "output_type": "stream",
     "text": [
      "0     0.008934\n",
      "1     0.011729\n",
      "2     0.009050\n",
      "3     0.009334\n",
      "4     0.010360\n",
      "5     0.017426\n",
      "6     0.018206\n",
      "7     0.011982\n",
      "8     0.005428\n",
      "9     0.003318\n",
      "10    0.003993\n",
      "11    0.008846\n",
      "12    0.013695\n",
      "13    0.006155\n",
      "14    0.009603\n",
      "15    0.004068\n",
      "16    0.009740\n",
      "17    0.017871\n",
      "35    0.001980\n",
      "dtype: float64\n",
      "max p: 0.01820586881510458\n",
      "min p: 0.001979598419462152\n",
      "max/min: 9.196748510261507\n"
     ]
    }
   ],
   "source": [
    "\n",
    "#计算高斯分布的概率密度函数\n",
    "p1 = 1/std1/math.sqrt(2*math.pi)*np.exp(-np.power((x10-u1),2)/2/math.pow\n",
    "(std1,2))\n",
    "p2 = 1/std2/math.sqrt(2*math.pi)*np.exp(-np.power((x20-u2),2)/2/math.pow\n",
    "(std2,2))\n",
    "p = np.multiply(p1,p2)\n",
    "print(p)\n",
    "print('max p:',max(p))\n",
    "print('min p:',min(p))\n",
    "print('max/min:',max(p)/min(p))"
   ],
   "metadata": {
    "collapsed": false,
    "pycharm": {
     "name": "#%%\n"
    }
   }
  },
  {
   "cell_type": "code",
   "execution_count": 8,
   "outputs": [
    {
     "name": "stdout",
     "output_type": "stream",
     "text": [
      "3.8635294117647057 1.9833114391607491 6.405882352941177 1.617065470317797\n",
      "18    0.012190\n",
      "19    0.014357\n",
      "20    0.010784\n",
      "21    0.016214\n",
      "22    0.011710\n",
      "23    0.019200\n",
      "24    0.040827\n",
      "25    0.049422\n",
      "26    0.040404\n",
      "27    0.022859\n",
      "28    0.010804\n",
      "29    0.029370\n",
      "30    0.038174\n",
      "31    0.013827\n",
      "32    0.018771\n",
      "33    0.020275\n",
      "34    0.009243\n",
      "dtype: float64\n",
      "max p: 0.04942244529970458\n",
      "min p: 0.00924331025588934\n",
      "max/min: 5.346833973058002\n"
     ]
    }
   ],
   "source": [
    "import math\n",
    "#筛选y为1的数据\n",
    "x11 = x1[y==1]\n",
    "x21 = x2[y==1]\n",
    "#计算mean，std\n",
    "u1 = x11.mean()\n",
    "u2 = x21.mean()\n",
    "std1 = x11.std()\n",
    "std2 = x21.std()\n",
    "print(u1,std1,u2,std2)\n",
    "\n",
    "\n",
    "#计算高斯分布的概率密度函数\n",
    "p1 = 1/std1/math.sqrt(2*math.pi)*np.exp(-np.power((x11-u1),2)/2/math.pow\n",
    "(std1,2))\n",
    "p2 = 1/std2/math.sqrt(2*math.pi)*np.exp(-np.power((x21-u2),2)/2/math.pow\n",
    "(std2,2))\n",
    "p = np.multiply(p1,p2)\n",
    "print(p)\n",
    "print('max p:',max(p))\n",
    "print('min p:',min(p))\n",
    "print('max/min:',max(p)/min(p))"
   ],
   "metadata": {
    "collapsed": false,
    "pycharm": {
     "name": "#%%\n"
    }
   }
  },
  {
   "cell_type": "code",
   "execution_count": 9,
   "outputs": [
    {
     "name": "stdout",
     "output_type": "stream",
     "text": [
      "[ 1  1  1  1  1  1  1  1  1  1  1  1  1  1  1  1  1  1 -1]\n"
     ]
    }
   ],
   "source": [
    "\n",
    "#异常数据点对点检测\n",
    "from sklearn.covariance import EllipticEnvelope\n",
    "#异常点的比例为0.02\n",
    "ad_model = EllipticEnvelope(contamination=0.02)\n",
    "ad_model.fit(X[y==0])\n",
    "y_predict_bad = ad_model.predict(X[y==0])\n",
    "print(y_predict_bad)"
   ],
   "metadata": {
    "collapsed": false,
    "pycharm": {
     "name": "#%%\n"
    }
   }
  },
  {
   "cell_type": "code",
   "execution_count": 10,
   "outputs": [
    {
     "data": {
      "text/plain": "<Figure size 432x288 with 1 Axes>",
      "image/png": "[encoded data removed]"
     },
     "metadata": {
      "needs_background": "light"
     },
     "output_type": "display_data"
    }
   ],
   "source": [
    "\n",
    "fig2 = plt.figure()\n",
    "bad = plt.scatter(x10,x20,marker='x',s=150,label='bad')\n",
    "good = plt.scatter(x11,x21,marker='o',facecolor='none',\n",
    "                   edgecolor='red',s=150,label='good')\n",
    "plt.scatter(x10[y_predict_bad==-1],x20[y_predict_bad==-1],\n",
    "            marker='*',s=80,c= 'k')\n",
    "plt.title('chip data')\n",
    "plt.xlabel('size 1')\n",
    "plt.ylabel('size 2')\n",
    "plt.legend(fontsize=8,markerscale=0.5)\n",
    "plt.show()"
   ],
   "metadata": {
    "collapsed": false,
    "pycharm": {
     "name": "#%%\n"
    }
   }
  },
  {
   "cell_type": "code",
   "execution_count": 11,
   "outputs": [
    {
     "name": "stdout",
     "output_type": "stream",
     "text": [
      "(36, 3)\n",
      "(35, 3)\n"
     ]
    }
   ],
   "source": [
    "\n",
    "#剔除异常数据点\n",
    "print(data.shape)\n",
    "data = data.drop(index=35)\n",
    "print(data.shape)\n"
   ],
   "metadata": {
    "collapsed": false,
    "pycharm": {
     "name": "#%%\n"
    }
   }
  },
  {
   "cell_type": "code",
   "execution_count": 12,
   "outputs": [
    {
     "data": {
      "text/plain": "<Figure size 432x288 with 2 Axes>",
      "image/png": "[encoded data removed]"
     },
     "metadata": {
      "needs_background": "light"
     },
     "output_type": "display_data"
    }
   ],
   "source": [
    "\n",
    "#各维度数据分布\n",
    "fig3 = plt.figure()\n",
    "plt.subplot(121)\n",
    "plt.hist(x11,bins=10)\n",
    "plt.title('x1 data')\n",
    "plt.xlabel('x1')\n",
    "plt.ylabel('counts')\n",
    "plt.subplot(122)\n",
    "plt.hist(x21,bins=10)\n",
    "plt.title('x2 data')\n",
    "plt.xlabel('x2')\n",
    "plt.ylabel('counts')\n",
    "\n",
    "plt.show()"
   ],
   "metadata": {
    "collapsed": false,
    "pycharm": {
     "name": "#%%\n"
    }
   }
  },
  {
   "cell_type": "code",
   "execution_count": 13,
   "outputs": [
    {
     "name": "stdout",
     "output_type": "stream",
     "text": [
      "(35, 2)\n"
     ]
    }
   ],
   "source": [
    "#主成分分析#X y赋值\n",
    "X = data.drop(['y'],axis=1)\n",
    "y = data.loc[:,'y']\n",
    "print(X.shape)"
   ],
   "metadata": {
    "collapsed": false,
    "pycharm": {
     "name": "#%%\n"
    }
   }
  },
  {
   "cell_type": "code",
   "execution_count": 14,
   "outputs": [
    {
     "name": "stdout",
     "output_type": "stream",
     "text": [
      "[0.5369408 0.4630592]\n"
     ]
    },
    {
     "data": {
      "text/plain": "<Figure size 432x288 with 1 Axes>",
      "image/png": "[encoded data removed]"
     },
     "metadata": {
      "needs_background": "light"
     },
     "output_type": "display_data"
    }
   ],
   "source": [
    "\n",
    "#主成分分析\n",
    "from sklearn.preprocessing import StandardScaler\n",
    "from sklearn.decomposition import PCA\n",
    "X_norm = StandardScaler().fit_transform(X)\n",
    "#主成分分析（二维）\n",
    "pca = PCA(n_components=2)\n",
    "X_reduced = pca.fit_transform(X_norm)\n",
    "var_ratio = pca.explained_variance_ratio_\n",
    "print(var_ratio)\n",
    "fig4 = plt.figure()\n",
    "plt.bar([1,2],var_ratio)\n",
    "plt.xticks([1,2],['PC1','PC2'])\n",
    "plt.show()\n",
    "#从结果我们可以看到，两个成分保留的信息都很多，都要保留"
   ],
   "metadata": {
    "collapsed": false,
    "pycharm": {
     "name": "#%%\n"
    }
   }
  },
  {
   "cell_type": "code",
   "execution_count": 15,
   "outputs": [
    {
     "name": "stdout",
     "output_type": "stream",
     "text": [
      "(21, 2) (14, 2) (35, 2)\n"
     ]
    }
   ],
   "source": [
    "#数据分离\n",
    "from  sklearn.model_selection import train_test_split\n",
    "#数据分离，数据分离参数：random_state=1,test_size=0.4\n",
    "X_train,X_test,y_train,y_test = train_test_split(X,y,random_state=1,test_size=0.4)\n",
    "print(X_train.shape,X_test.shape,X.shape)\n",
    "\n",
    "\n"
   ],
   "metadata": {
    "collapsed": false,
    "pycharm": {
     "name": "#%%\n"
    }
   }
  },
  {
   "cell_type": "code",
   "execution_count": 16,
   "outputs": [
    {
     "data": {
      "text/plain": "KNeighborsClassifier(n_neighbors=3)"
     },
     "execution_count": 16,
     "metadata": {},
     "output_type": "execute_result"
    }
   ],
   "source": [
    "from sklearn.neighbors import KNeighborsClassifier\n",
    "knn_3 = KNeighborsClassifier(n_neighbors=3)\n",
    "knn_3.fit(X_train, y_train)"
   ],
   "metadata": {
    "collapsed": false,
    "pycharm": {
     "name": "#%%\n"
    }
   }
  },
  {
   "cell_type": "code",
   "execution_count": 17,
   "outputs": [
    {
     "name": "stdout",
     "output_type": "stream",
     "text": [
      "[1 1 0 1 0 1 0 0 0 0 0 1 0 1 0 0 0 0 0 0 0] [0 1 0 1 1 0 0 1 1 1 1 1 0 0]\n"
     ]
    }
   ],
   "source": [
    "\n",
    "#模型预测\n",
    "y_train_predict = knn_3.predict(X_train)\n",
    "y_test_predict = knn_3.predict(X_test)\n",
    "print(y_train_predict,y_test_predict)"
   ],
   "metadata": {
    "collapsed": false,
    "pycharm": {
     "name": "#%%\n"
    }
   }
  },
  {
   "cell_type": "code",
   "execution_count": 18,
   "outputs": [
    {
     "name": "stdout",
     "output_type": "stream",
     "text": [
      "训练： 0.8095238095238095 \n",
      "测试:  0.7857142857142857\n"
     ]
    }
   ],
   "source": [
    "#粗略判断准确率\n",
    "from sklearn.metrics import accuracy_score\n",
    "accuracy_train = accuracy_score(y_train,y_train_predict)\n",
    "accuracy_test = accuracy_score(y_test,y_test_predict)\n",
    "print('训练：',accuracy_train,'\\n测试: ',accuracy_test)"
   ],
   "metadata": {
    "collapsed": false,
    "pycharm": {
     "name": "#%%\n"
    }
   }
  },
  {
   "cell_type": "code",
   "execution_count": 19,
   "outputs": [
    {
     "name": "stdout",
     "output_type": "stream",
     "text": [
      "(40000, 2)\n",
      "[[0.   0.  ]\n",
      " [0.05 0.  ]\n",
      " [0.1  0.  ]\n",
      " ...\n",
      " [9.85 9.95]\n",
      " [9.9  9.95]\n",
      " [9.95 9.95]]\n"
     ]
    }
   ],
   "source": [
    "\n",
    "#结果可视化\n",
    "#生成用于结果可视化的数据集\n",
    "xx,yy = np.meshgrid(np.arange(0,10,0.05),np.arange(0,10,0.05))\n",
    "#数据展开\n",
    "x_range = np.c_[xx.ravel(),yy.ravel()]\n",
    "print(x_range.shape)\n",
    "print(x_range)"
   ],
   "metadata": {
    "collapsed": false,
    "pycharm": {
     "name": "#%%\n"
    }
   }
  },
  {
   "cell_type": "code",
   "execution_count": 20,
   "outputs": [
    {
     "name": "stdout",
     "output_type": "stream",
     "text": [
      "1\n"
     ]
    }
   ],
   "source": [
    "print(1)\n"
   ],
   "metadata": {
    "collapsed": false,
    "pycharm": {
     "name": "#%%\n"
    }
   }
  },
  {
   "cell_type": "code",
   "execution_count": null,
   "outputs": [],
   "source": [],
   "metadata": {
    "collapsed": false,
    "pycharm": {
     "name": "#%%\n"
    }
   }
  }
 ],
 "metadata": {
  "kernelspec": {
   "display_name": "Python 3",
   "language": "python",
   "name": "python3"
  },
  "language_info": {
   "codemirror_mode": {
    "name": "ipython",
    "version": 2
   },
   "file_extension": ".py",
   "mimetype": "text/x-python",
   "name": "python",
   "nbconvert_exporter": "python",
   "pygments_lexer": "ipython2",
   "version": "2.7.6"
  }
 },
 "nbformat": 4,
 "nbformat_minor": 0
}