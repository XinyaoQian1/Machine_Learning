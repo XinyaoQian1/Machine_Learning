{
 "cells": [
  {
   "cell_type": "code",
   "execution_count": null,
   "metadata": {
    "collapsed": true
   },
   "outputs": [],
   "source": []
  },
  {
   "cell_type": "markdown",
   "source": [
    "# PCA+逻辑回归预测检查者是否患糖尿病"
   ],
   "metadata": {
    "collapsed": false
   }
  },
  {
   "cell_type": "raw",
   "source": [
    "任务：\n",
    "\n",
    "基于task2_data数据，结合PCA降维技术与逻辑回归预测检查者患病情况\n",
    "1、对原数据建立逻辑回归模型，计算模型预测准确率；\n",
    "2、对数据进行标准化处理，选取glucose维度数据可视化处理后的效果；\n",
    "3、进行与原数据等维度PCA，查看各主成分的方差比例；\n",
    "4、保留2个主成分，可视化降维后的数据；\n",
    "5、基于降维后数据建立逻辑回归模型，与原数据表现进行对比，思考结果变化原因"
   ],
   "metadata": {
    "collapsed": false
   }
  },
  {
   "cell_type": "code",
   "execution_count": 2,
   "outputs": [
    {
     "name": "stdout",
     "output_type": "stream",
     "text": [
      "(600, 9)\n"
     ]
    },
    {
     "data": {
      "text/plain": "   pregnant  glucose  bp  skin  insulin   bmi  pedigree  age  label\n0         9      122  56     0        0  33.3     1.114   33      1\n1         2      112  66    22        0  25.0     0.307   24      0\n2         1      103  30    38       83  43.3     0.183   33      0\n3         1      138  82     0        0  40.1     0.236   28      0\n4         9       72  78    25        0  31.6     0.280   38      0",
      "text/html": "<div>\n<style scoped>\n    .dataframe tbody tr th:only-of-type {\n        vertical-align: middle;\n    }\n\n    .dataframe tbody tr th {\n        vertical-align: top;\n    }\n\n    .dataframe thead th {\n        text-align: right;\n    }\n</style>\n<table border=\"1\" class=\"dataframe\">\n  <thead>\n    <tr style=\"text-align: right;\">\n      <th></th>\n      <th>pregnant</th>\n      <th>glucose</th>\n      <th>bp</th>\n      <th>skin</th>\n      <th>insulin</th>\n      <th>bmi</th>\n      <th>pedigree</th>\n      <th>age</th>\n      <th>label</th>\n    </tr>\n  </thead>\n  <tbody>\n    <tr>\n      <th>0</th>\n      <td>9</td>\n      <td>122</td>\n      <td>56</td>\n      <td>0</td>\n      <td>0</td>\n      <td>33.3</td>\n      <td>1.114</td>\n      <td>33</td>\n      <td>1</td>\n    </tr>\n    <tr>\n      <th>1</th>\n      <td>2</td>\n      <td>112</td>\n      <td>66</td>\n      <td>22</td>\n      <td>0</td>\n      <td>25.0</td>\n      <td>0.307</td>\n      <td>24</td>\n      <td>0</td>\n    </tr>\n    <tr>\n      <th>2</th>\n      <td>1</td>\n      <td>103</td>\n      <td>30</td>\n      <td>38</td>\n      <td>83</td>\n      <td>43.3</td>\n      <td>0.183</td>\n      <td>33</td>\n      <td>0</td>\n    </tr>\n    <tr>\n      <th>3</th>\n      <td>1</td>\n      <td>138</td>\n      <td>82</td>\n      <td>0</td>\n      <td>0</td>\n      <td>40.1</td>\n      <td>0.236</td>\n      <td>28</td>\n      <td>0</td>\n    </tr>\n    <tr>\n      <th>4</th>\n      <td>9</td>\n      <td>72</td>\n      <td>78</td>\n      <td>25</td>\n      <td>0</td>\n      <td>31.6</td>\n      <td>0.280</td>\n      <td>38</td>\n      <td>0</td>\n    </tr>\n  </tbody>\n</table>\n</div>"
     },
     "execution_count": 2,
     "metadata": {},
     "output_type": "execute_result"
    }
   ],
   "source": [
    "#import data\n",
    "import pandas as pd\n",
    "import numpy as np\n",
    "data = pd.read_csv('task2_data.csv')\n",
    "print(data.shape)\n",
    "data.head()"
   ],
   "metadata": {
    "collapsed": false,
    "pycharm": {
     "name": "#%%\n"
    }
   }
  },
  {
   "cell_type": "code",
   "execution_count": 3,
   "outputs": [
    {
     "data": {
      "text/plain": "0    1\n1    0\n2    0\n3    0\n4    0\nName: label, dtype: int64"
     },
     "execution_count": 3,
     "metadata": {},
     "output_type": "execute_result"
    }
   ],
   "source": [
    "#X y 赋值\n",
    "X = data.drop(['label'],axis=1)\n",
    "y = data.loc[:,'label']\n",
    "X.head()\n",
    "y.head()"
   ],
   "metadata": {
    "collapsed": false,
    "pycharm": {
     "name": "#%%\n"
    }
   }
  },
  {
   "cell_type": "code",
   "execution_count": 4,
   "outputs": [
    {
     "name": "stdout",
     "output_type": "stream",
     "text": [
      "(600, 8) (600,)\n"
     ]
    }
   ],
   "source": [
    "print(X.shape,y.shape)"
   ],
   "metadata": {
    "collapsed": false,
    "pycharm": {
     "name": "#%%\n"
    }
   }
  },
  {
   "cell_type": "code",
   "execution_count": 5,
   "outputs": [
    {
     "data": {
      "text/plain": "LogisticRegression(max_iter=1000)"
     },
     "execution_count": 5,
     "metadata": {},
     "output_type": "execute_result"
    }
   ],
   "source": [
    "# creat LR model , max iter = 1000 \n",
    "from sklearn.linear_model import LogisticRegression\n",
    "LR = LogisticRegression(max_iter=1000)\n",
    "LR.fit(X,y)"
   ],
   "metadata": {
    "collapsed": false,
    "pycharm": {
     "name": "#%%\n"
    }
   }
  },
  {
   "cell_type": "code",
   "execution_count": 6,
   "outputs": [],
   "source": [
    "#predict using LR model\n",
    "y_pre = LR.predict(X)"
   ],
   "metadata": {
    "collapsed": false,
    "pycharm": {
     "name": "#%%\n"
    }
   }
  },
  {
   "cell_type": "code",
   "execution_count": 7,
   "outputs": [
    {
     "data": {
      "text/plain": "0.9183333333333333"
     },
     "execution_count": 7,
     "metadata": {},
     "output_type": "execute_result"
    }
   ],
   "source": [
    "from sklearn.metrics import accuracy_score\n",
    "LR_score = accuracy_score(y, y_pre)\n",
    "LR_score"
   ],
   "metadata": {
    "collapsed": false,
    "pycharm": {
     "name": "#%%\n"
    }
   }
  },
  {
   "cell_type": "code",
   "execution_count": 8,
   "outputs": [
    {
     "name": "stdout",
     "output_type": "stream",
     "text": [
      "[[ 1.61220139  0.09768458 -0.7354873  ...  0.26204583  2.01357116\n",
      "   0.04951422]\n",
      " [-0.51645181 -0.20789804 -0.16980036 ... -0.79351368 -0.48113519\n",
      "  -0.72549099]\n",
      " [-0.82054513 -0.4829224  -2.20627333 ...  1.53380426 -0.86446057\n",
      "   0.04951422]\n",
      " ...\n",
      " [ 1.00401476  1.99229683  0.84843612 ...  0.54183268 -0.33275117\n",
      "   0.73840774]\n",
      " [ 0.09173482 -0.26901457 -0.16980036 ...  0.08399964  0.02584355\n",
      "  -0.29493254]\n",
      " [-1.12463844  0.55605851 -1.6405864  ...  1.50836909  5.642797\n",
      "   0.04951422]]\n"
     ]
    }
   ],
   "source": [
    "\n",
    "#standarize the data (mean = 0, std =1)\n",
    "from sklearn.preprocessing import StandardScaler\n",
    "X_norm = StandardScaler().fit_transform(X)\n",
    "#z = (X - u) / std\n",
    "print(X_norm)"
   ],
   "metadata": {
    "collapsed": false,
    "pycharm": {
     "name": "#%%\n"
    }
   }
  },
  {
   "cell_type": "code",
   "execution_count": 9,
   "outputs": [
    {
     "name": "stdout",
     "output_type": "stream",
     "text": [
      "118.80333333333333 32.75167847546886 1.865174681370263e-16 0.9999999999999998\n"
     ]
    }
   ],
   "source": [
    "glu_u = X.loc[:, 'glucose'].mean()\n",
    "glu_std = X.loc[:, 'glucose'].std()\n",
    "glu_norm_u =X_norm[:,1].mean()\n",
    "glu_norm_std =X_norm[:,1].std()\n",
    "print(glu_u,glu_std,glu_norm_u,glu_norm_std)"
   ],
   "metadata": {
    "collapsed": false,
    "pycharm": {
     "name": "#%%\n"
    }
   }
  },
  {
   "cell_type": "code",
   "execution_count": 10,
   "outputs": [
    {
     "data": {
      "text/plain": "<Figure size 864x360 with 2 Axes>",
      "image/png": "[encoded data removed]"
     },
     "metadata": {
      "needs_background": "light"
     },
     "output_type": "display_data"
    }
   ],
   "source": [
    "\n",
    "from matplotlib import pyplot as plt\n",
    "fig1 = plt.figure(figsize=(12,5))\n",
    "fig1_1 = plt.subplot(121)\n",
    "plt.hist(X.loc[:,'glucose'],bins=100)\n",
    "\n",
    "fig1_2 = plt.subplot(122)\n",
    "plt.hist(X_norm[:,1],bins=100)\n",
    "plt.show()"
   ],
   "metadata": {
    "collapsed": false,
    "pycharm": {
     "name": "#%%\n"
    }
   }
  },
  {
   "cell_type": "code",
   "execution_count": 18,
   "outputs": [
    {
     "name": "stdout",
     "output_type": "stream",
     "text": [
      "[2.15669029 1.74035262 1.03817655 0.87890467 0.75186028 0.61865346\n",
      " 0.42446137 0.40425636]\n",
      "[0.26913698 0.2171815  0.12955578 0.10967998 0.0938259  0.0772028\n",
      " 0.05296924 0.05044782]\n",
      "var ratio =  1.0\n"
     ]
    },
    {
     "data": {
      "text/plain": "0.4863184794787808"
     },
     "execution_count": 18,
     "metadata": {},
     "output_type": "execute_result"
    }
   ],
   "source": [
    "\n",
    "#pca分析\n",
    "from sklearn.decomposition import PCA\n",
    "pca = PCA(n_components=8)#8 components to keep\n",
    "#处理标准化之后的数据\n",
    "X_pca = pca.fit_transform(X_norm)\n",
    "#计算分析后各成分的variance以及variance ratio\n",
    "var = pca.explained_variance_\n",
    "var_ratio = pca.explained_variance_ratio_\n",
    "print(var)\n",
    "print(var_ratio)\n",
    "#如果我们保留的维度和原始数据一致，那么var_ratio的求和值为1，保留的维度越少，值也越小。\n",
    "print('var ratio = ',sum(var_ratio))\n",
    "#比如我们看前两项之和：\n",
    "var_ratio[0]+var_ratio[1]"
   ],
   "metadata": {
    "collapsed": false,
    "pycharm": {
     "name": "#%%\n"
    }
   }
  },
  {
   "cell_type": "code",
   "execution_count": 17,
   "outputs": [
    {
     "data": {
      "text/plain": "<Figure size 720x360 with 1 Axes>",
      "image/png": "[encoded data removed]"
     },
     "metadata": {
      "needs_background": "light"
     },
     "output_type": "display_data"
    },
    {
     "data": {
      "text/plain": "0.4863184794787808"
     },
     "execution_count": 17,
     "metadata": {},
     "output_type": "execute_result"
    }
   ],
   "source": [
    "\n",
    "#可视化方差比例\n",
    "fig2 = plt.figure(figsize=(10,5))\n",
    "plt.bar([1,2,3,4,5,6,7,8],var_ratio)\n",
    "plt.show()\n",
    "#plt.bar(names, values)"
   ],
   "metadata": {
    "collapsed": false,
    "pycharm": {
     "name": "#%%\n"
    }
   }
  },
  {
   "cell_type": "code",
   "execution_count": 23,
   "outputs": [
    {
     "name": "stdout",
     "output_type": "stream",
     "text": [
      "(600, 2) (600, 8)\n",
      "[0.26913698 0.2171815 ]\n"
     ]
    }
   ],
   "source": [
    "\n",
    "#数据降维到2维\n",
    "pca2 = PCA(n_components=2)\n",
    "X_pca2 = pca2.fit_transform(X_norm)\n",
    "print(X_pca2.shape,X_pca.shape)\n",
    "var_ratio2 = pca2.explained_variance_ratio_\n",
    "print(var_ratio2)"
   ],
   "metadata": {
    "collapsed": false,
    "pycharm": {
     "name": "#%%\n"
    }
   }
  },
  {
   "cell_type": "code",
   "execution_count": 32,
   "outputs": [
    {
     "data": {
      "text/plain": "<matplotlib.legend.Legend at 0x7fe3a4dffd30>"
     },
     "execution_count": 32,
     "metadata": {},
     "output_type": "execute_result"
    },
    {
     "data": {
      "text/plain": "<Figure size 432x288 with 1 Axes>",
      "image/png": "[encoded data removed]"
     },
     "metadata": {
      "needs_background": "light"
     },
     "output_type": "display_data"
    }
   ],
   "source": [
    "#降维数据可视化\n",
    "fig3 = plt.figure()\n",
    "plt.scatter(X_pca2[:,0][y == 0], X_pca2[:,1][y == 0],marker='x',label='N')\n",
    "plt.scatter(X_pca2[:,0][y == 1], X_pca2[:,1][y == 1],marker='*',label = 'Y')\n",
    "plt.legend()"
   ],
   "metadata": {
    "collapsed": false,
    "pycharm": {
     "name": "#%%\n"
    }
   }
  },
  {
   "cell_type": "code",
   "execution_count": 35,
   "outputs": [
    {
     "name": "stdout",
     "output_type": "stream",
     "text": [
      "0.8766666666666667\n"
     ]
    },
    {
     "data": {
      "text/plain": "0.04166666666666663"
     },
     "execution_count": 35,
     "metadata": {},
     "output_type": "execute_result"
    }
   ],
   "source": [
    "#降维数据建立LR模型\n",
    "LR2 = LogisticRegression()\n",
    "LR2.fit(X_pca2,y)\n",
    "y_pred = LR2.predict(X_pca2)\n",
    "accuracy_pca = accuracy_score(y, y_pred)\n",
    "print(accuracy_pca)\n",
    "LR_score - accuracy_pca"
   ],
   "metadata": {
    "collapsed": false,
    "pycharm": {
     "name": "#%%\n"
    }
   }
  },
  {
   "cell_type": "code",
   "execution_count": null,
   "outputs": [],
   "source": [],
   "metadata": {
    "collapsed": false,
    "pycharm": {
     "name": "#%%\n"
    }
   }
  }
 ],
 "metadata": {
  "kernelspec": {
   "display_name": "Python 3",
   "language": "python",
   "name": "python3"
  },
  "language_info": {
   "codemirror_mode": {
    "name": "ipython",
    "version": 2
   },
   "file_extension": ".py",
   "mimetype": "text/x-python",
   "name": "python",
   "nbconvert_exporter": "python",
   "pygments_lexer": "ipython2",
   "version": "2.7.6"
  }
 },
 "nbformat": 4,
 "nbformat_minor": 0
}