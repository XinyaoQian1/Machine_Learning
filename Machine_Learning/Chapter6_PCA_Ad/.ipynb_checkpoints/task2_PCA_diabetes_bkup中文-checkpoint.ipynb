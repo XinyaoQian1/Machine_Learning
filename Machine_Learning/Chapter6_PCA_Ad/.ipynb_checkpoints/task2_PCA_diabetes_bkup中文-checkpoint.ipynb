{
 "cells": [
  {
   "cell_type": "code",
   "execution_count": 1,
   "metadata": {},
   "outputs": [
    {
     "data": {
      "text/html": [
       "<div>\n",
       "<style scoped>\n",
       "    .dataframe tbody tr th:only-of-type {\n",
       "        vertical-align: middle;\n",
       "    }\n",
       "\n",
       "    .dataframe tbody tr th {\n",
       "        vertical-align: top;\n",
       "    }\n",
       "\n",
       "    .dataframe thead th {\n",
       "        text-align: right;\n",
       "    }\n",
       "</style>\n",
       "<table border=\"1\" class=\"dataframe\">\n",
       "  <thead>\n",
       "    <tr style=\"text-align: right;\">\n",
       "      <th></th>\n",
       "      <th>pregnant</th>\n",
       "      <th>glucose</th>\n",
       "      <th>bp</th>\n",
       "      <th>skin</th>\n",
       "      <th>insulin</th>\n",
       "      <th>bmi</th>\n",
       "      <th>pedigree</th>\n",
       "      <th>age</th>\n",
       "      <th>label</th>\n",
       "    </tr>\n",
       "  </thead>\n",
       "  <tbody>\n",
       "    <tr>\n",
       "      <th>0</th>\n",
       "      <td>9</td>\n",
       "      <td>122</td>\n",
       "      <td>56</td>\n",
       "      <td>0</td>\n",
       "      <td>0</td>\n",
       "      <td>33.3</td>\n",
       "      <td>1.114</td>\n",
       "      <td>33</td>\n",
       "      <td>1</td>\n",
       "    </tr>\n",
       "    <tr>\n",
       "      <th>1</th>\n",
       "      <td>2</td>\n",
       "      <td>112</td>\n",
       "      <td>66</td>\n",
       "      <td>22</td>\n",
       "      <td>0</td>\n",
       "      <td>25.0</td>\n",
       "      <td>0.307</td>\n",
       "      <td>24</td>\n",
       "      <td>0</td>\n",
       "    </tr>\n",
       "    <tr>\n",
       "      <th>2</th>\n",
       "      <td>1</td>\n",
       "      <td>103</td>\n",
       "      <td>30</td>\n",
       "      <td>38</td>\n",
       "      <td>83</td>\n",
       "      <td>43.3</td>\n",
       "      <td>0.183</td>\n",
       "      <td>33</td>\n",
       "      <td>0</td>\n",
       "    </tr>\n",
       "    <tr>\n",
       "      <th>3</th>\n",
       "      <td>1</td>\n",
       "      <td>138</td>\n",
       "      <td>82</td>\n",
       "      <td>0</td>\n",
       "      <td>0</td>\n",
       "      <td>40.1</td>\n",
       "      <td>0.236</td>\n",
       "      <td>28</td>\n",
       "      <td>0</td>\n",
       "    </tr>\n",
       "    <tr>\n",
       "      <th>4</th>\n",
       "      <td>9</td>\n",
       "      <td>72</td>\n",
       "      <td>78</td>\n",
       "      <td>25</td>\n",
       "      <td>0</td>\n",
       "      <td>31.6</td>\n",
       "      <td>0.280</td>\n",
       "      <td>38</td>\n",
       "      <td>0</td>\n",
       "    </tr>\n",
       "  </tbody>\n",
       "</table>\n",
       "</div>"
      ],
      "text/plain": [
       "   pregnant  glucose  bp  skin  insulin   bmi  pedigree  age  label\n",
       "0         9      122  56     0        0  33.3     1.114   33      1\n",
       "1         2      112  66    22        0  25.0     0.307   24      0\n",
       "2         1      103  30    38       83  43.3     0.183   33      0\n",
       "3         1      138  82     0        0  40.1     0.236   28      0\n",
       "4         9       72  78    25        0  31.6     0.280   38      0"
      ]
     },
     "execution_count": 1,
     "metadata": {},
     "output_type": "execute_result"
    }
   ],
   "source": [
    "import pandas as pd\n",
    "import numpy as np\n",
    "data = pd.read_csv('diabetes_data.csv')\n",
    "data.head()"
   ]
  },
  {
   "cell_type": "code",
   "execution_count": 2,
   "metadata": {},
   "outputs": [
    {
     "data": {
      "text/plain": [
       "0    1\n",
       "1    0\n",
       "2    0\n",
       "3    0\n",
       "4    0\n",
       "Name: label, dtype: int64"
      ]
     },
     "execution_count": 2,
     "metadata": {},
     "output_type": "execute_result"
    }
   ],
   "source": [
    "X = data.drop(['label'],axis=1)\n",
    "y = data.loc[:,'label']\n",
    "y.head()"
   ]
  },
  {
   "cell_type": "code",
   "execution_count": null,
   "metadata": {},
   "outputs": [],
   "source": [
    "# 模型训练\n",
    "from sklearn.linear_model import LogisticRegression\n",
    "logreg = LogisticRegression()\n",
    "logreg.fit(X, y)"
   ]
  },
  {
   "cell_type": "code",
   "execution_count": null,
   "metadata": {},
   "outputs": [],
   "source": [
    "#knn for all parameters\n",
    "from sklearn.neighbors import KNeighborsClassifier\n",
    "KNN = KNeighborsClassifier(n_neighbors=3)\n",
    "KNN.fit(X,y)\n",
    "y_predict = KNN.predict(X)\n",
    "from sklearn.metrics import accuracy_score\n",
    "accuracy = accuracy_score(y,y_predict)\n",
    "print(accuracy)"
   ]
  },
  {
   "cell_type": "code",
   "execution_count": null,
   "metadata": {},
   "outputs": [],
   "source": [
    "%matplotlib inline\n",
    "from matplotlib import pyplot as plt\n",
    "font2 = {'family' : 'Times New Roman',\n",
    "'weight' : 'normal',\n",
    "'size'   : 24,\n",
    "}\n",
    "x_mean = X.loc[:,'sepal length'].mean()\n",
    "x_sigma = X.loc[:,'sepal length'].std()\n",
    "print(x_mean,x_sigma)\n",
    "\n",
    "fig = plt.figure()\n",
    "plt.hist(X.loc[:,'sepal length'],bins=100)\n",
    "#plt.title('mean:',x_mean)\n",
    "plt.title('mean:5.84;std:0.83',font2)\n",
    "plt.xlabel('orignal x',font2)\n",
    "plt.show()"
   ]
  },
  {
   "cell_type": "code",
   "execution_count": null,
   "metadata": {},
   "outputs": [],
   "source": [
    "#pca\n",
    "from sklearn.decomposition import PCA\n",
    "from sklearn.preprocessing import StandardScaler\n",
    "X_norm = StandardScaler().fit_transform(X)\n",
    "X_norm.shape\n",
    "X_norm[:,0].mean()"
   ]
  },
  {
   "cell_type": "code",
   "execution_count": null,
   "metadata": {},
   "outputs": [],
   "source": [
    "x_norm_mean = X_norm[:,0].mean()\n",
    "x_norm_sigma = X_norm[:,0].std()\n",
    "#print(x_mean,x_sigma)\n",
    "\n",
    "fig = plt.figure()\n",
    "plt.hist(X_norm[:,0],bins=100)\n",
    "#plt.title('mean:',x_mean)\n",
    "plt.title('mean:0;std:{}'.format(x_norm_sigma),font2)\n",
    "plt.xlabel('standard x',font2)\n",
    "plt.show()"
   ]
  },
  {
   "cell_type": "code",
   "execution_count": null,
   "metadata": {},
   "outputs": [],
   "source": [
    "fig2 = plt.figure(figsize=(15,5))\n",
    "fig = plt.subplot(121)\n",
    "plt.hist(X.loc[:,'sepal length'],bins=100)\n",
    "plt.title('mean:5.84;std:0.83',font2)\n",
    "plt.xlabel('orignal x',font2)\n",
    "fig = plt.subplot(122)\n",
    "plt.hist(X_norm[:,0],bins=100)\n",
    "plt.title('mean:0;std:{}'.format(x_norm_sigma),font2)\n",
    "plt.xlabel('standard x',font2)\n",
    "plt.show()"
   ]
  },
  {
   "cell_type": "code",
   "execution_count": null,
   "metadata": {},
   "outputs": [],
   "source": [
    "X_norm.shape"
   ]
  },
  {
   "cell_type": "code",
   "execution_count": null,
   "metadata": {},
   "outputs": [],
   "source": [
    "#find the principle features based on the variance of each vector\n",
    "pca = PCA(n_components=4)\n",
    "X_reduced = pca.fit_transform(X_norm)\n",
    "#降维后的各主成分的方差值占总方差值的比例，这个比例越大，则越是重要的主成分\n",
    "var_ratio = pca.explained_variance_ratio_\n",
    "print(var_ratio)\n"
   ]
  },
  {
   "cell_type": "code",
   "execution_count": null,
   "metadata": {},
   "outputs": [],
   "source": [
    "#Visualize the var_ratio\n",
    "%matplotlib inline\n",
    "from matplotlib import pyplot as plt\n",
    "fig = plt.figure(figsize=(10,8))\n",
    "plt.bar([1,2,3,4],var_ratio)\n",
    "plt.title('variance ratio of each component',font2)\n",
    "plt.xticks([1,2,3,4],['PC1','PC2','PC3','PC4'])\n",
    "plt.ylabel('var_ratio',font2)\n",
    "plt.show()"
   ]
  },
  {
   "cell_type": "code",
   "execution_count": null,
   "metadata": {},
   "outputs": [],
   "source": [
    "#find the principle features based on the variance of each vector\n",
    "pca = PCA(n_components=2)\n",
    "X_reduced = pca.fit_transform(X_norm)\n",
    "X_reduced.shape"
   ]
  },
  {
   "cell_type": "code",
   "execution_count": null,
   "metadata": {},
   "outputs": [],
   "source": [
    "data.iloc[60,:]"
   ]
  },
  {
   "cell_type": "code",
   "execution_count": null,
   "metadata": {},
   "outputs": [],
   "source": [
    "#visualize the results\n",
    "fig2 = plt.figure(figsize=(10,5))\n",
    "setosa=plt.scatter(X_reduced[:,0][y==0],X_reduced[:,1][y==0])\n",
    "versicolor=plt.scatter(X_reduced[:,0][y==1],X_reduced[:,1][y==1])\n",
    "virginica=plt.scatter(X_reduced[:,0][y==2],X_reduced[:,1][y==1])\n",
    "plt.title('PCA result from iris data (4D to 2D)',font2)\n",
    "plt.xlabel('PC1',font2)\n",
    "plt.ylabel('PC2',font2)\n",
    "plt.legend((setosa,versicolor,virginica),('setosa','versicolor','virginica'))\n",
    "plt.show()"
   ]
  },
  {
   "cell_type": "code",
   "execution_count": null,
   "metadata": {},
   "outputs": [],
   "source": [
    "KNN2 = KNeighborsClassifier(n_neighbors=3)\n",
    "KNN2.fit(X_reduced,y)\n",
    "y_predict2 = KNN2.predict(X_reduced)\n",
    "accuracy2 = accuracy_score(y,y_predict2)\n",
    "print(accuracy2)"
   ]
  },
  {
   "cell_type": "code",
   "execution_count": null,
   "metadata": {},
   "outputs": [],
   "source": [
    "X_reduced.shape"
   ]
  },
  {
   "cell_type": "code",
   "execution_count": null,
   "metadata": {},
   "outputs": [],
   "source": [
    "#visualize the results\n",
    "fig2 = plt.figure(figsize=(10,10))\n",
    "setosa=plt.scatter(X.loc[:,'sepal length'][y==0],X.loc[:,'sepal width'][y==0])\n",
    "versicolor=plt.scatter(X.loc[:,'sepal length'][y==1],X.loc[:,'sepal width'][y==1])\n",
    "virginica=plt.scatter(X.loc[:,'sepal length'][y==2],X.loc[:,'sepal width'][y==1])\n",
    "plt.xlabel('PC1')\n",
    "plt.ylabel('PC2')\n",
    "plt.legend((setosa,versicolor,virginica),('setosa','versicolor','virginica'))\n",
    "plt.show()"
   ]
  },
  {
   "cell_type": "raw",
   "metadata": {},
   "source": [
    "PCA实战summary：\n",
    "1、通过计算数据对应的主成分（principle components)，可在减少数据维度同时尽可能保留主要信息；\n",
    "2、为确定合适的主成分维度，可先对数据进行与原数据相同维度的PCA处理，再根据根据各个成分的数据方差确认主成分维度;\n",
    "3、核心算法参考链接：https://scikit-learn.org/stable/modules/generated/sklearn.decomposition.PCA.html?highlight=pca#sklearn.decomposition.PCA"
   ]
  }
 ],
 "metadata": {
  "kernelspec": {
   "display_name": "Python 3",
   "language": "python",
   "name": "python3"
  },
  "language_info": {
   "codemirror_mode": {
    "name": "ipython",
    "version": 3
   },
   "file_extension": ".py",
   "mimetype": "text/x-python",
   "name": "python",
   "nbconvert_exporter": "python",
   "pygments_lexer": "ipython3",
   "version": "3.6.10"
  }
 },
 "nbformat": 4,
 "nbformat_minor": 2
}
